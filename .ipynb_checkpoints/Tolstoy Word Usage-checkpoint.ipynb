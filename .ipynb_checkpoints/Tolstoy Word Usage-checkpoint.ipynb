{
 "cells": [
  {
   "cell_type": "markdown",
   "metadata": {},
   "source": [
    "# Выявление особенностей словоупотребления в текстах Л. Н. Толстого методами дистрибутивной семантики"
   ]
  },
  {
   "cell_type": "markdown",
   "metadata": {},
   "source": [
    "## Данные"
   ]
  },
  {
   "cell_type": "markdown",
   "metadata": {},
   "source": [
    "На основе 90-томного собрания сочинений"
   ]
  },
  {
   "cell_type": "code",
   "execution_count": 1,
   "metadata": {
    "collapsed": true
   },
   "outputs": [],
   "source": [
    "import os\n",
    "import re\n",
    "import pandas as pd\n",
    "from lxml import etree\n",
    "from bs4 import BeautifulSoup\n",
    "from statistics import mean\n",
    "from pymystem3 import Mystem"
   ]
  },
  {
   "cell_type": "code",
   "execution_count": 7,
   "metadata": {
    "collapsed": true
   },
   "outputs": [],
   "source": [
    "tei_ns = {'tei': 'http://www.tei-c.org/ns/1.0'}\n",
    "mystem = Mystem()"
   ]
  },
  {
   "cell_type": "code",
   "execution_count": 4,
   "metadata": {
    "collapsed": false
   },
   "outputs": [],
   "source": [
    "with open ('.\\\\data\\\\Final\\\\Альберт 5.xml','r', encoding='utf-8') as f:\n",
    "    text = f.read()"
   ]
  },
  {
   "cell_type": "code",
   "execution_count": 75,
   "metadata": {
    "collapsed": false
   },
   "outputs": [
    {
     "data": {
      "text/plain": [
       "'<?xml version=\\'1.0\\' encoding=\\'utf-8\\'?>\\n<TEI xmlns=\"http://www.tei-c.org/ns/1.0\" xmlns:xi=\"http://www.w3.org/2001/XInclude\">\\n <teiHeader>\\n  <fileDesc>\\n   <titleStmt>\\n    <title>\\n     Альберт\\n    </title>\\n    <author>\\n     Толстой Л.Н.\\n    </author>\\n    <respStmt>\\n     <resp>\\n подготовка TEI/XML\\n </resp>\\n     <name>\\n      Мария Картышева, Евгений Можаев, Даниил Скоринкин, Елена Сидорова\\n     </name>'"
      ]
     },
     "execution_count": 75,
     "metadata": {},
     "output_type": "execute_result"
    }
   ],
   "source": [
    "text[:400]"
   ]
  },
  {
   "cell_type": "code",
   "execution_count": 37,
   "metadata": {
    "collapsed": false
   },
   "outputs": [],
   "source": [
    "root = etree.parse('.\\\\data\\\\Final\\\\Альберт 5.xml').getroot()"
   ]
  },
  {
   "cell_type": "code",
   "execution_count": 77,
   "metadata": {
    "collapsed": false
   },
   "outputs": [
    {
     "name": "stdout",
     "output_type": "stream",
     "text": [
      "\n",
      "     Пять человек богатых и молодых людей приехали в третьем часу ночи веселиться на петербургский балик.\n",
      "    \n",
      "\n",
      "     Шампанского было выпито много, большая часть господ были очень молоды, девицы были красивы, фортепьяно и скрипка неутомимо играли одну польку за другою, танцы и шум не переставали; но было как-то скучно, неловко, каждому казалось почему-то (как это часто случается), что всё это не то и ненужно.\n",
      "    \n",
      "\n",
      "     Несколько раз они усиливались поднять веселье, но притворное веселье было еще хуже скуки.\n",
      "    \n"
     ]
    }
   ],
   "source": [
    "for i in root.findall(\".//tei:text/tei:div/tei:div/tei:p\", tei_ns)[:3]:\n",
    "    print (i.text)"
   ]
  },
  {
   "cell_type": "code",
   "execution_count": 84,
   "metadata": {
    "collapsed": false
   },
   "outputs": [
    {
     "data": {
      "text/plain": [
       "'\\n       5\\n      '"
      ]
     },
     "execution_count": 84,
     "metadata": {},
     "output_type": "execute_result"
    }
   ],
   "source": [
    "root.find(\".//tei:biblScope\", tei_ns).text"
   ]
  },
  {
   "cell_type": "code",
   "execution_count": 181,
   "metadata": {
    "collapsed": false
   },
   "outputs": [],
   "source": [
    "class TextItem(object):\n",
    "    def __init__(self):\n",
    "        self.title = None\n",
    "        self.year = None\n",
    "        self.vol = None\n",
    "        self.text = ''\n",
    "        self.type = None\n",
    "        \n",
    "    def __str__(self):\n",
    "        s = \"{}\\n\\n{}\\n\\n{}\\n\\n{}\\n\\n{}...\".format(self.type, self.title, self.year, self.vol, self.text[:100])\n",
    "        return s\n",
    "    \n",
    "    __repr__ = __str__"
   ]
  },
  {
   "cell_type": "markdown",
   "metadata": {},
   "source": [
    "### Произведения"
   ]
  },
  {
   "cell_type": "code",
   "execution_count": 242,
   "metadata": {
    "collapsed": false
   },
   "outputs": [],
   "source": [
    "def get_one_writing(filename):\n",
    "    TI = TextItem()\n",
    "    root = etree.parse(filename).getroot()\n",
    "    TI.type = 'composition'\n",
    "    TI.title = root.find(\".//tei:titleStmt/tei:title\", tei_ns).text.strip()\n",
    "    TI.year = root.find(\".//tei:creation/tei:date\", tei_ns).text.strip()\n",
    "    TI.vol = root.find(\".//tei:biblScope\", tei_ns).text.strip()\n",
    "    text = []\n",
    "    for i in root.findall(\".//tei:text/tei:div/tei:div/tei:p\", tei_ns):   \n",
    "        etree.strip_tags(i, 'tei:choice', 'tei:reg')\n",
    "        #print(type(i))\n",
    "        #i.remove(child)# .remove('tei:orig')\n",
    "        text.append(str(i.text).strip())\n",
    "    #print (text)\n",
    "    TI.text = ' '.join(text)\n",
    "    return TI"
   ]
  },
  {
   "cell_type": "code",
   "execution_count": 293,
   "metadata": {
    "collapsed": true
   },
   "outputs": [],
   "source": [
    "s = '<p rend=\"left\"> <hi rend=\"italic\"> <choice> <reg>Акциома</reg> <orig>Акцiома</orig> </choice>. </hi> Что не <choice><reg>имеет</reg><orig>имѣетъ</orig></choice> причины, то независимо. </p>'"
   ]
  },
  {
   "cell_type": "code",
   "execution_count": 332,
   "metadata": {
    "collapsed": false
   },
   "outputs": [
    {
     "data": {
      "text/plain": [
       "<Element p at 0x1bdafe74e88>"
      ]
     },
     "execution_count": 332,
     "metadata": {},
     "output_type": "execute_result"
    }
   ],
   "source": [
    "root = etree.fromstring(s)\n",
    "root"
   ]
  },
  {
   "cell_type": "code",
   "execution_count": null,
   "metadata": {
    "collapsed": true
   },
   "outputs": [],
   "source": []
  },
  {
   "cell_type": "code",
   "execution_count": 118,
   "metadata": {
    "collapsed": false
   },
   "outputs": [
    {
     "data": {
      "text/plain": [
       "<lxml.etree._ElementTree at 0x1b103e31688>"
      ]
     },
     "execution_count": 118,
     "metadata": {},
     "output_type": "execute_result"
    }
   ],
   "source": [
    "root = etree.parse('.\\\\data\\\\Final\\\\[«Ежели бы человек не желал…»] 1.xml')\n",
    "root"
   ]
  },
  {
   "cell_type": "code",
   "execution_count": 77,
   "metadata": {
    "collapsed": false
   },
   "outputs": [
    {
     "data": {
      "text/plain": [
       "317"
      ]
     },
     "execution_count": 77,
     "metadata": {},
     "output_type": "execute_result"
    }
   ],
   "source": [
    "reg = root.findall(\".//tei:text/tei:div/tei:div/tei:p/tei:choice/tei:reg\", tei_ns)\n",
    "len(reg)"
   ]
  },
  {
   "cell_type": "code",
   "execution_count": 114,
   "metadata": {
    "collapsed": false
   },
   "outputs": [
    {
     "data": {
      "text/plain": [
       "317"
      ]
     },
     "execution_count": 114,
     "metadata": {},
     "output_type": "execute_result"
    }
   ],
   "source": [
    "reg = root.findall(\".//tei:text/tei:div/tei:div/tei:p/tei:choice/tei:reg\", tei_ns)\n",
    "len(reg)"
   ]
  },
  {
   "cell_type": "code",
   "execution_count": 119,
   "metadata": {
    "collapsed": false
   },
   "outputs": [],
   "source": [
    "choices = root.findall(\".//tei:text/tei:div/tei:div/tei:p/tei:choice\", tei_ns)\n",
    "len(choices)\n",
    "children = [i.getchildren() for i in choices]\n",
    "#for i in choices:\n",
    "#    print(i.getchildren())"
   ]
  },
  {
   "cell_type": "code",
   "execution_count": 120,
   "metadata": {
    "collapsed": false
   },
   "outputs": [],
   "source": [
    "for key, i in enumerate(choices):\n",
    "    i.remove(children[key][1])"
   ]
  },
  {
   "cell_type": "code",
   "execution_count": 121,
   "metadata": {
    "collapsed": false,
    "scrolled": true
   },
   "outputs": [
    {
     "data": {
      "text/plain": [
       "[<Element {http://www.tei-c.org/ns/1.0}reg at 0x1b103de0848>]"
      ]
     },
     "execution_count": 121,
     "metadata": {},
     "output_type": "execute_result"
    }
   ],
   "source": [
    "choices[0].getchildren()"
   ]
  },
  {
   "cell_type": "code",
   "execution_count": 124,
   "metadata": {
    "collapsed": true
   },
   "outputs": [],
   "source": [
    "for key, i in enumerate(choices):\n",
    "    etree.strip_tags(i, 'tei:reg')"
   ]
  },
  {
   "cell_type": "code",
   "execution_count": null,
   "metadata": {
    "collapsed": true
   },
   "outputs": [],
   "source": [
    "for "
   ]
  },
  {
   "cell_type": "code",
   "execution_count": 126,
   "metadata": {
    "collapsed": false
   },
   "outputs": [
    {
     "data": {
      "text/plain": [
       "[<Element {http://www.tei-c.org/ns/1.0}reg at 0x1b103de0848>]"
      ]
     },
     "execution_count": 126,
     "metadata": {},
     "output_type": "execute_result"
    }
   ],
   "source": [
    "choices[0].getchildren()"
   ]
  },
  {
   "cell_type": "code",
   "execution_count": 137,
   "metadata": {
    "collapsed": true
   },
   "outputs": [],
   "source": [
    "etree.strip_tags(root, '{http://www.tei-c.org/ns/1.0}reg')"
   ]
  },
  {
   "cell_type": "code",
   "execution_count": 139,
   "metadata": {
    "collapsed": true
   },
   "outputs": [],
   "source": [
    "etree.strip_tags(root, '{http://www.tei-c.org/ns/1.0}choice')"
   ]
  },
  {
   "cell_type": "code",
   "execution_count": 167,
   "metadata": {
    "collapsed": true
   },
   "outputs": [],
   "source": [
    "etree.strip_tags(root, '{http://www.tei-c.org/ns/1.0}p')"
   ]
  },
  {
   "cell_type": "code",
   "execution_count": 168,
   "metadata": {
    "collapsed": true
   },
   "outputs": [],
   "source": [
    "reg = root.findall(\".//tei:text\", tei_ns)[0]"
   ]
  },
  {
   "cell_type": "code",
   "execution_count": 170,
   "metadata": {
    "collapsed": false
   },
   "outputs": [
    {
     "data": {
      "text/plain": [
       "'\\n  \\n   \\n    '"
      ]
     },
     "execution_count": 170,
     "metadata": {},
     "output_type": "execute_result"
    }
   ],
   "source": [
    "reg.text"
   ]
  },
  {
   "cell_type": "code",
   "execution_count": 169,
   "metadata": {
    "collapsed": false
   },
   "outputs": [
    {
     "data": {
      "text/plain": [
       "b'<?xml version=\\'1.0\\' encoding=\\'cp1251\\'?>\\n<text xmlns=\"http://www.tei-c.org/ns/1.0\" xmlns:xi=\"http://www.w3.org/2001/XInclude\">\\n  \\n   \\n    <head xml:id=\"h49\">\\n *IX.\\n <lb/>\\n [\\xce\\xd2\\xd0\\xdb\\xc2\\xce\\xca \\xc1\\xc5\\xc7 \\xc7\\xc0\\xc3\\xcb\\xc0\\xc2\\xc8\\xdf.]\\n </head>\\n    \\n 1) \\xc5\\xe6\\xe5\\xeb\\xe8 \\xe1\\xfb \\xf7\\xe5\\xeb\\xee\\xe2\\xe5\\xea \\xed\\xe5 \\xe6\\xe5\\xeb\\xe0\\xeb, \\xf2\\xee \\xe8 \\xed\\xe5 \\xe1\\xfb\\xeb\\xee \\xe1\\xfb \\xf7\\xe5\\xeb\\xee\\xe2\\xe5\\xea\\xe0. \\xcf\\xf0\\xe8\\xf7\\xe8\\xed\\xe0 \\xe2\\xf1\\xff\\xea\\xee\\xe9 \\xe4\\xe5\\xff\\xf2\\xe5\\xeb\\xfc\\xed\\xee\\xf1\\xf2\\xe8 \\xe5\\xf1\\xf2\\xfc \\xe6\\xe5\\xeb\\xe0\\xed\\xe8\\xe5. \\xc6\\xe5\\xeb\\xe0\\xed\\xe8\\xe5 \\xe5\\xf1\\xf2\\xfc \\xf1\\xe8\\xeb\\xe0 \\xe4\\xe5\\xff\\xf2\\xe5\\xeb\\xfc\\xed\\xee\\xf1\\xf2\\xe8, \\xed\\xee \\xf2\\xe0\\xea \\xea\\xe0\\xea \\xef\\xf0\\xe8\\xf7\\xe8\\xed\\xe0 \\xe4\\xe5\\xff\\xf2\\xe5\\xeb\\xfc\\xed\\xee\\xf1\\xf2\\xe8 \\xe1\\xfb\\xe2\\xe0\\xe5\\xf2 \\xe4\\xe2\\xee\\xff\\xea\\xe0, \\xe8\\xec\\xff\\xed\\xed\\xee \\xe8\\xeb\\xe8 \\xef\\xf0\\xee\\xe8\\xf1\\xf5\\xee\\xe4\\xe8\\xf2\\xfc \\xee\\xf2 \\xe6\\xe5\\xeb\\xe0\\xed\\xe8\\xff \\xe8\\xeb\\xe8 \\xee\\xf2 \\xf1\\xe0\\xec\\xee\\xe9 \\xe4\\xe5\\xff\\xf2\\xe5\\xeb\\xfc\\xed\\xee\\xf1\\xf2\\xe8, \\xf2\\xee \\xe8 \\xe6\\xe5\\xeb\\xe0\\xed\\xe8\\xe5 \\xe4\\xe2\\xee\\xff\\xea\\xee: \\xef\\xee\\xf1\\xf0\\xe5\\xe4\\xf1\\xf2\\xe2\\xe5\\xed\\xed\\xee \\xe8 \\xed\\xe5\\xef\\xee\\xf1\\xf0\\xe5\\xe4\\xf1\\xf2\\xe2\\xe5\\xed\\xed\\xee. \\xc4\\xe5\\xff\\xf2\\xe5\\xeb\\xfc\\xed\\xee\\xf1\\xf2\\xfc \\xe5\\xf1\\xf2\\xfc \\xf1\\xeb\\xe5\\xe4\\xf1\\xf2\\xe2\\xe8\\xe5 \\xe8 \\xef\\xf0\\xe8\\xf7\\xe8\\xed\\xe0 \\xe6\\xe5\\xeb. \\xca\\xee\\xe3\\xe4\\xe0 \\xee\\xed\\xe0 \\xe5\\xf1\\xf2\\xfc \\xef\\xf0\\xe8\\xf7\\xe8\\xed\\xe0, [\\xf2\\xee] \\xf7\\xf2\\xee \\xe5\\xf1\\xf2\\xfc \\xef\\xf0\\xe8\\xf7\\xe8\\xed\\xe0 \\xe4\\xe5\\xff\\xf2\\xe5\\xeb\\xfc\\xed\\xee\\xf1\\xf2\\xe8? \\xcf\\xf0\\xe8\\xf7\\xe8\\xed\\xe0 \\xe4\\xe5\\xff\\xf2\\xe5\\xeb\\xfc\\xed\\xee\\xf1\\xf2\\xe8 \\xe5\\xf1\\xf2\\xfc \\xec\\xe8\\xf0 \\xe2\\xed\\xe5\\xf8\\xed\\xe8\\xe9.\\n \\n    \\n \\xdf \\xe6\\xe5\\xeb\\xe0\\xfe \\xe7\\xed\\xe0\\xf2\\xfc \\xef\\xf0\\xe0\\xe2\\xe4\\xf3, \\xe6\\xe5\\xeb\\xe0\\xfe \\xe7\\xed\\xe0\\xf2\\xfc, \\xf7\\xf2\\xee [\\xf2\\xe0\\xea\\xee\\xe5] \\xff, \\xef\\xee\\xf7\\xe5\\xec\\xf3 \\xff \\xee\\xf9\\xf3\\xf9\\xe0\\xfe \\xe2\\xef\\xe5\\xf7\\xe0\\xf2\\xeb\\xe5\\xed\\xe8\\xff? \\xcd\\xee, \\xec\\xee\\xe6\\xe5\\xf2 \\xe1\\xfb\\xf2\\xfc, \\xed\\xe5\\xf2 \\xef\\xf0\\xe0\\xe2\\xe4\\xfb, \\xed\\xe5\\xf2 \\xec\\xe5\\xed\\xff, \\xed\\xe5\\xf2 \\xe2\\xef\\xe5\\xf7\\xe0\\xf2\\xeb\\xe5\\xed\\xe8\\xe9? \\xcc\\xee\\xe6\\xe5\\xf2 \\xe1\\xfb\\xf2\\xfc, \\xfd\\xf2\\xee \\xe2\\xf1\\xe5 \\xee\\xe1\\xec\\xe0\\xed? \\xcd\\xee \\xe4\\xeb\\xff \\xf7\\xe5\\xe3\\xee \\xff \\xf0\\xe0\\xf1\\xf1\\xf3\\xe6\\xe4\\xe0\\xfe? \\xc4\\xeb\\xff \\xf2\\xee\\xe3\\xee, \\xf7\\xf2\\xee \\xff \\xf5\\xee\\xf7\\xf3 \\xe7\\xed\\xe0\\xf2\\xfc \\xef\\xf0\\xe0\\xe2\\xe4\\xf3, \\xe4\\xeb\\xff \\xf2\\xee\\xe3\\xee, \\xf7\\xf2\\xee \\xff \\xe6\\xe5\\xeb\\xe0\\xfe \\xed\\xe5 \\xee\\xe1\\xec\\xe0\\xed\\xfb\\xe2\\xe0\\xf2\\xfc\\xf1\\xff. \\xc8\\xf2\\xe0\\xea \\xff \\xe2\\xf1\\xe5 \\xec\\xee\\xe3\\xf3 \\xee\\xef\\xf0\\xee\\xe2\\xe5\\xf0\\xe3\\xed\\xf3\\xf2\\xfc, \\xe2\\xf1\\xe5 \\xe8\\xf1\\xea\\xeb\\xfe\\xf7\\xe0\\xff \\xf2\\xee\\xe3\\xee:\\n \\n      \\xff \\xe6\\xe5\\xeb\\xe0\\xfe:\\n     \\n \\xe8\\xe1\\xee \\xe5\\xe6\\xe5\\xeb\\xe8 \\xe1\\xfb \\xff \\xed\\xe5 \\xe6\\xe5\\xeb\\xe0\\xeb, \\xff \\xe1\\xfb \\xed\\xe5 \\xee\\xef\\xf0\\xee\\xe2\\xe5\\xf0\\xe3\\xe0\\xeb, \\xf1\\xeb\\xe5\\xe4\\xee\\xe2\\xe0\\xf2\\xe5\\xeb\\xfc\\xed\\xee, \\xee\\xe4\\xed\\xee \\xf2\\xee\\xeb\\xfc\\xea\\xee \\xe2\\xe5\\xf0\\xed\\xee, \\xf7\\xf2\\xee\\n \\n      \\xff \\xe6\\xe5\\xeb\\xe0\\xfe\\n     \\n ; \\xe8 \\xf1\\xeb\\xe5\\xe4\\xee\\xe2 \\xed\\xf3\\xe6\\xe5\\xed [?]. \\xd7\\xf2\\xee \\xe5\\xf1\\xf2\\xfc \\xef\\xf0\\xe8\\xf7\\xe8\\xed\\xe0 \\xe6\\xe5\\xeb\\xe0\\xed\\xe8\\xff? (\\xc5\\xe6\\xe5\\xeb\\xe8 \\xe6\\xe5\\xeb\\xe0\\xed\\xe8\\xe5 \\xf1\\xf3\\xf9\\xe5\\xf1\\xf2\\xe2\\xf3\\xe5\\xf2, \\xf2\\xee \\xf1\\xf3\\xf9\\xe5\\xf1\\xf2\\xe2\\xf3\\xe5\\xf2 \\xe8 \\xe5\\xe3\\xee \\xef\\xf0\\xe8\\xf7\\xe8\\xed\\xe0). \\xcf\\xf0\\xe8\\xf7\\xe8\\xed\\xe0 \\xe6\\xe5\\xeb\\xe0\\xed\\xe8\\xff \\xe5\\xf1\\xf2\\xfc \\xe4\\xe5\\xff\\xf2\\xe5\\xeb\\xfc\\xed\\xee\\xf1\\xf2\\xfc, \\xef\\xf0\\xe8\\xf7\\xe8\\xed\\xe0 \\xe4\\xe5\\xff\\xf2\\xe5\\xeb\\xfc\\xed\\xee\\xf1\\xf2\\xe8 \\xe5\\xf1\\xf2\\xfc \\xf1\\xf2\\xf0\\xe5\\xec\\xeb\\xe5\\xed\\xe8\\xe5 \\xea \\xed\\xe5\\xe7\\xe0\\xe2\\xe8\\xf1\\xe8\\xec\\xee\\xf1\\xf2\\xe8, \\xea \\xf3\\xe4\\xee\\xe2\\xeb\\xe5\\xf2\\xe2, \\xe5\\xf1\\xf2\\xfc \\xe2\\xf1\\xe5 \\xf2\\xee, \\xf7\\xf2\\xee \\xe8\\xec\\xe5\\xe5\\xf2 \\xed\\xe0 \\xec\\xe5\\xed\\xff \\xe2\\xeb\\xe8\\xff\\xed\\xe8\\xe5, \\xe8\\xeb\\xe8 \\xe2\\xf1\\xe5 \\xf2\\xee, \\xf7\\xf2\\xee \\xf1\\xf3\\xf9\\xe5\\xf1\\xf2\\xe2\\xf3\\xe5\\xf2, \\xe8 \\xf1\\xe0\\xec\\xee \\xe6\\xe5\\xeb\\xe0\\xed\\xe8\\xe5. \\xd1\\xeb\\xe5\\xe4\\xee\\xe2\\xe0\\xf2\\xe5\\xeb\\xfc\\xed\\xee, \\xef\\xf0\\xe8\\xf7\\xe8\\xed\\xe0 \\xf2\\xee\\xe3\\xee, \\xf7\\xf2\\xee \\xff \\xe6\\xe5\\xeb\\xe0\\xfe, \\xe5\\xf1\\xf2\\xfc \\xf1\\xf3\\xf9\\xe5\\xf1\\xf2\\xe2\\xee\\xe2\\xe0\\xed\\xe8\\xe5 \\xe2\\xf1\\xe5\\xe3\\xee (\\xf2\\xe0\\xea \\xf7\\xf2\\xee \\xe5\\xe6\\xe5\\xeb\\xe8 \\xe1\\xfb \\xed\\xe5 \\xe1\\xfb\\xeb\\xee \\xe2\\xf1\\xe5\\xe3\\xee, \\xf2\\xee \\xe8 \\xed\\xe5 \\xe1\\xfb\\xeb\\xee \\xe1\\xfb \\xec\\xee\\xe5\\xe3\\xee \\xe6\\xe5\\xeb\\xe0\\xed\\xe8\\xff \\xe8 \\xec\\xe5\\xed\\xff), \\xe8 \\xec\\xee\\xe5 \\xe6\\xe5\\xeb\\xe0\\xed\\xe8\\xe5. \\xc8\\xf2\\xe0\\xea \\xe6\\xe5\\xeb\\xe0\\xed\\xe8\\xe5 \\xe5\\xf1\\xf2\\xfc \\xef\\xf0\\xe8\\xf7\\xe8\\xed\\xe0 \\xe8 \\xf1\\xeb\\xe5\\xe4\\xf1\\xf2\\xe2\\xe8\\xe5. \\xc8\\xe7 \\xfd\\xf2\\xee\\xe3\\xee \\xe2\\xe8\\xe4\\xed\\xee, \\xf7\\xf2\\xee \\xe6\\xe5\\xeb\\xe0\\xed\\xe8\\xe5 \\xe4\\xe5\\xe9\\xf1\\xf2\\xe2\\xf3\\xe5\\xf2 \\xf0\\xe0\\xe7\\xeb\\xe8\\xf7\\xed\\xee: \\xf1\\xe0\\xec\\xee \\xf1\\xe5\\xe1\\xff \\xee\\xef\\xf0\\xe5\\xe4\\xe5\\xeb\\xff\\xe5\\xf2 \\xe8 \\xe4\\xe5\\xe9\\xf1\\xf2\\xe2\\xf3\\xe5\\xf2 \\xed\\xe5\\xef\\xee\\xf1\\xf0\\xe5\\xe4\\xf1\\xf2\\xe2\\xe5\\xed\\xed\\xee, \\xe8\\xeb\\xe8 \\xe4\\xe5\\xe9\\xf1\\xf2\\xe2\\xf3\\xe5\\xf2 \\xef\\xee \\xe2\\xef\\xe5\\xf7\\xe0\\xf2\\xeb\\xe5\\xed\\xe8\\xff\\xec, \\xf2\\xe0\\xea \\xf7\\xf2\\xee \\xe4\\xe5\\xff\\xf2\\xe5\\xeb\\xfc\\xed\\xee\\xf1\\xf2\\xfc \\xe8\\xf5 \\xf1\\xee\\xe2\\xe5\\xf0\\xf8\\xe5\\xed\\xed\\xee \\xef\\xf0\\xee\\xf2\\xe8\\xe2\\xee\\xef\\xee\\xeb\\xee\\xe6\\xed\\xe0.\\n \\n    \\n     \\n \\xc0\\xea\\xf6\\xe8\\xee\\xec\\xe0\\xc0\\xea\\xf6i\\xee\\xec\\xe0.\\n \\n \\xd7\\xf2\\xee \\xed\\xe5 \\xe8\\xec\\xe5\\xe5\\xf2 \\xef\\xf0\\xe8\\xf7\\xe8\\xed\\xfb, \\xf2\\xee \\xed\\xe5\\xe7\\xe0\\xe2\\xe8\\xf1\\xe8\\xec\\xee.\\n \\n    \\n     \\n \\xc0\\xea\\xf6\\xe8\\xee\\xec\\xe0\\xc0\\xea\\xf6i\\xee\\xec\\xe0.\\n \\n 1) \\xc2\\xf1\\xe5, \\xf7\\xf2\\xee \\xf1\\xf3\\xf9\\xe5\\xf1\\xf2\\xe2\\xf3\\xe5\\xf2, \\xe8\\xec\\xe5\\xe5\\xf2 \\xef\\xf0\\xe8\\xf7\\xe8\\xed\\xf3 \\xf2\\xee\\xe6\\xe5 \\xf1\\xf3\\xf9\\xe5\\xf1\\xf2\\xe2\\xe5\\xed\\xed\\xf3\\xfe, \\xe5\\xe6\\xe5\\xeb\\xe8 \\xf2\\xee\\xeb\\xfc\\xea\\xee \\xef\\xf0\\xe8\\xf7\\xe8\\xed\\xe0 \\xed\\xe5 \\xe1\\xf3\\xe4\\xe5\\xf2 \\xf1\\xeb\\xe5\\xe4\\xf1\\xf2\\xe2\\xe8\\xe5\\xec \\xe8 \\xf1\\xeb\\xe5\\xe4\\xf1\\xf2\\xe2\\xe8\\xe5 \\xed\\xe5 \\xe1\\xf3\\xe4\\xe5\\xf2 \\xef\\xf0\\xe8\\xf7\\xe8\\xed\\xee\\xfe.\\n \\n    \\n \\xd0\\xe0\\xf1\\xf1\\xec\\xe0\\xf2\\xf0\\xe8\\xe2\\xe0\\xff \\xef\\xf0\\xe8\\xf7\\xe8\\xed\\xf3 \\xf1\\xef\\xee\\xf1 \\xe6\\xe5\\xeb\\xe0\\xed\\xe8\\xff, \\xff \\xed\\xe0\\xf5\\xee\\xe6\\xf3: \\xe0) \\xe6\\xe5\\xeb\\xe0\\xed\\xe8\\xe5 \\xe5\\xf1\\xf2\\xfc \\xe2\\xed\\xf3\\xf2\\xf0\\xe5\\xed\\xed\\xff\\xff: \\xe4\\xe5\\xff\\xf2\\xe5\\xeb\\xfc\\xed\\xee\\xf1\\xf2\\xfc, \\xef\\xf0\\xe8\\xf7\\xe8\\xed\\xee\\xfe \\xea\\xee\\xf2\\xee\\xf0\\xee\\xe9 \\xe5\\xf1\\xf2\\xfc \\xed\\xe8\\xf7\\xf2\\xee \\xe8\\xed\\xee\\xe5, \\xea\\xe0\\xea \\xe2\\xef\\xe5\\xf7\\xe0\\xf2\\xeb\\xe5\\xed\\xe8\\xff, \\xef\\xf0\\xe8\\xf7\\xe8\\xed\\xee\\xfe \\xe6\\xe5 \\xe2\\xef\\xe5\\xf7\\xe0\\xf2\\xeb\\xe5\\xed\\xe8\\xe9;\\n <pb n=\"234\"/>\\n \\xe5\\xf1\\xf2\\xfc \\xe2\\xf1\\xe5 \\xf1\\xf3\\xf9\\xe5\\xf1\\xf2\\xe2\\xf3\\xfe\\xf9\\xe5\\xe5. \\xc8\\xe7 \\xfd\\xf2\\xee\\xe3\\xee \\xf0\\xe0\\xf1\\xf1\\xf3\\xe6\\xe4\\xe5\\xed\\xe8\\xff \\xff \\xe2\\xe8\\xe6\\xf3, \\xf7\\xf2\\xee \\xe6\\xe5\\xeb\\xe0\\xed\\xe8\\xe5 \\xe8\\xec\\xe5\\xe5\\xf2 \\xef\\xf0\\xe8\\xf7\\xe8\\xed\\xf3 \\xe8 \\xf7\\xf2\\xee \\xe6\\xe5\\xeb\\xe0\\xed\\xe8\\xe5 \\xed\\xe5 \\xe8\\xec\\xe5\\xe5\\xf2 \\xfd\\xf2\\xf3 \\xef\\xf0\\xe8\\xf7\\xe8\\xed\\xf3 \\xe2 \\xf1\\xe5\\xe1\\xe5 \\xf1\\xe0\\xec\\xee\\xec, \\xed\\xee \\xe2 \\xec\\xe8\\xf0\\xe5 \\xe2\\xed\\xe5\\xf8\\xed\\xe5\\xec, \\xea\\xee\\xf2\\xee\\xf0\\xfb\\xe9 \\xf1\\xf3\\xf9\\xe5\\xf1\\xf2\\xe2\\xf3\\xe5\\xf2 \\xef\\xee\\xf2\\xee\\xec\\xf3, \\xf7\\xf2\\xee \\xe5\\xf1\\xf2\\xfc \\xef\\xf0\\xe8\\xf7\\xe8\\xed\\xe0 \\xf1\\xf3\\xf9\\xe5\\xf1\\xf2\\xe2\\xf3\\xfe\\xf9\\xe5\\xe3\\xee. \\xcd\\xe0\\xe4\\xee \\xe7\\xe0\\xec\\xe5\\xf2\\xe8\\xf2\\xfc, \\xf7\\xf2\\xee \\xf1\\xee\\xe2\\xec\\xe5\\xf1\\xf2\\xed\\xee \\xf1 \\xe4\\xe5\\xe9\\xf1\\xf2\\xe2\\xe8\\xe5\\xec \\xe2\\xef\\xe5\\xf7\\xe0\\xf2\\xeb\\xe5\\xed\\xe8\\xe9 \\xed\\xe0 \\xec\\xe5\\xed\\xff \\xe4\\xe5\\xe9\\xf1\\xf2\\xe2\\xf3\\xe5\\xf2 \\xe8 \\xe6\\xe5\\xeb\\xe0\\xed\\xe8\\xe5.\\n \\n    \\n \\xc8\\xe7 \\xe2\\xf1\\xe5\\xe3\\xee \\xfd\\xf2\\xee\\xe3\\xee \\xff \\xe7\\xe0\\xea\\xeb\\xfe\\xf7\\xe0\\xfe, \\xf7\\xf2\\xee \\xe2\\xf1\\xe5 \\xe2\\xed\\xe5\\xf8\\xed\\xe5\\xe5, \\xf0\\xe0\\xe2\\xed\\xee \\xe8 \\xec\\xee\\xe5 \\xf2\\xe5\\xeb\\xee, \\xf1\\xf3\\xf9\\xe5\\xf1\\xf2\\xe2\\xf3\\xe5\\xf2 \\xe8 \\xf7\\xf2\\xee \\xef\\xf0\\xe8\\xf7\\xe8\\xed\\xee\\xe9 \\xec\\xee\\xe5\\xe3\\xee \\xf1\\xf3\\xf9\\xe5\\xf1\\xf2\\xe2\\xee\\xe2\\xe0\\xed\\xe8\\xff, \\xf2. \\xe5. \\xe6\\xe5\\xeb\\xe0\\xed\\xe8\\xff, \\xe5\\xf1\\xf2\\xfc \\xec\\xe8\\xf0 \\xe2\\xed\\xe5\\xf8\\xed\\xe8\\xe9. \\xd2\\xe0\\xea \\xf7\\xf2\\xee, \\xe5\\xe6\\xe5\\xeb\\xe8 \\xe1\\xfb \\xed\\xe5 \\xf1\\xf3\\xf9\\xe5\\xf1\\xf2\\xe2\\xee\\xe2\\xe0\\xeb\\xee \\xec\\xe8\\xf0\\xe0 \\xe2\\xed\\xe5\\xf8\\xed\\xe5\\xe3\\xee, \\xf7\\xe0\\xf1\\xf2\\xfc \\xea\\xee\\xf2\\xee\\xf0\\xee\\xe3\\xee \\xf1\\xee\\xf1\\xf2\\xe0\\xe2\\xeb\\xff\\xe5\\xf2 \\xec\\xee\\xe5 \\xf2\\xe5\\xeb\\xee, \\xed\\xe5 \\xf1\\xf3\\xf9\\xe5\\xf1\\xf2\\xe2\\xee\\xe2\\xe0\\xeb\\xee \\xe1\\xfb \\xe8 \\xec\\xe5\\xed\\xff \\xe2 \\xe4\\xf3\\xf5\\xee\\xe2\\xed\\xee\\xec \\xf1\\xec\\xfb\\xf1\\xeb\\xe5, \\xf2. \\xe5. \\xe6\\xe5\\xeb\\xe0\\xed\\xe8\\xff. \\xcd\\xee \\xf2\\xe0\\xea \\xea\\xe0\\xea \\xe6\\xe5\\xeb\\xe0\\xed\\xe8\\xe5 \\xe5\\xf1\\xf2\\xfc \\xee\\xe4\\xed\\xee \\xf2\\xee\\xeb\\xfc\\xea\\xee \\xe4\\xf3\\xf5\\xee\\xe2\\xed\\xee\\xe5, \\xf7\\xf2\\xee \\xe2\\xee \\xec\\xed\\xe5 \\xf1\\xf3\\xf9\\xe5\\xf1\\xf2\\xe2\\xf3\\xe5\\xf2, \\xf2\\xee \\xe4\\xf3\\xf5 \\xf3\\xec\\xe8\\xf0\\xe0\\xe5\\xf2 \\xe2\\xec\\xe5\\xf1\\xf2\\xe5 \\xf1 \\xf2\\xe5\\xeb\\xee\\xec.\\n \\n    \\n 2) \\xcd\\xee, \\xf0\\xe0\\xf1\\xf1\\xec\\xe0\\xf2\\xf0\\xe8\\xe2\\xe0\\xff \\xe4\\xe0\\xeb\\xe5\\xe5 \\xef\\xf0\\xe8\\xf7\\xe8\\xed\\xfb \\xe6\\xe5\\xeb\\xe0\\xed\\xe8\\xff,\\n \\n      \\xff\\n     \\n \\xed\\xe0\\xf5\\xee\\xe6\\xf3, \\xf7\\xf2\\xee \\xef\\xf0\\xe8\\xf7\\xe8\\xed\\xee\\xfe \\xe5\\xe3\\xee \\xe5\\xf1\\xf2\\xfc \\xf2\\xee\\xe6\\xe5 \\xe8 \\xf1\\xe0\\xec\\xee \\xe6\\xe5\\xeb\\xe0\\xed\\xe8\\xe5; \\xf1\\xeb\\xe5\\xe4\\xee\\xe2\\xe0\\xf2\\xe5\\xeb\\xfc\\xed\\xee, \\xe6\\xe5\\xeb\\xe0\\xed\\xe8\\xe5 \\xed\\xe5 \\xe8\\xec\\xe5\\xe5\\xf2 \\xef\\xf0\\xe8\\xf7\\xe8\\xed\\xfb \\xe8 \\xf1\\xe2\\xe5\\xf0\\xf5 \\xf2\\xee\\xe3\\xee \\xf1\\xe0\\xec\\xee \\xe8\\xec\\xe5\\xe5\\xf2 \\xe2 \\xf1\\xe5\\xe1\\xe5 \\xf2\\xee, \\xea \\xf7\\xe5\\xec\\xf3 \\xee\\xed\\xee \\xf1\\xf2\\xf0\\xe5\\xec\\xe8\\xf2\\xf1\\xff, \\xf2. \\xe5. \\xed\\xe5\\xe7\\xe0\\xe2\\xe8\\xf1\\xe8\\xec\\xee\\xf1\\xf2\\xfc. \\xc8 \\xf2\\xe0\\xea \\xea\\xe0\\xea \\xe6\\xe5\\xeb\\xe0\\xed\\xe8\\xe5 \\xf2\\xee \\xed\\xe5\\xe7\\xe0\\xe2\\xe8\\xf1\\xe8\\xec\\xee \\xed\\xe8 \\xee\\xf2 \\xf2\\xe5\\xeb\\xe0, \\xed\\xe8 \\xee\\xf2 \\xe2\\xf0\\xe5\\xec\\xe5\\xed\\xe8, \\xf1\\xeb\\xe5\\xe4\\xee\\xe2\\xe0\\xf2\\xe5\\xeb\\xfc\\xed\\xee, \\xe6\\xe5\\xeb\\xe0\\xed\\xe8\\xe5 \\xed\\xe5\\xe7\\xe0\\xe2\\xe8\\xf1\\xe8\\xec\\xee, \\xe1\\xe5\\xf1\\xea\\xee\\xed\\xe5\\xf7\\xed\\xee, \\xf1\\xe0\\xec\\xee \\xf1\\xe5\\xe1\\xff \\xee\\xef\\xf0\\xe5\\xe4\\xe5\\xeb\\xff\\xfe\\xf9\\xe5\\xe5, \\xf1\\xe0\\xec\\xee \\xf1\\xe5\\xe1\\xff \\xf3\\xe4\\xee\\xe2\\xeb\\xe5\\xf2\\xe2\\xee\\xf0\\xff\\xfe\\xf9\\xe5\\xe5 \\xe8 \\xe1\\xe5\\xf1\\xf1\\xec\\xe5\\xf0\\xf2\\xed\\xee.\\n \\n    \\n \\xc8\\xf2\\xe0\\xea \\xf7\\xe5\\xeb\\xee\\xe2\\xe5\\xea \\xf1\\xee\\xf1\\xf2\\xee\\xe8\\xf2 \\xe8\\xe7 \\xe4\\xe2\\xf3\\xf5 \\xf0\\xe0\\xe7\\xeb\\xe8\\xf7\\xed\\xfb\\xf5 \\xe4\\xe5\\xff\\xf2\\xe5\\xeb\\xfc\\xed\\xee\\xf1\\xf2\\xe5\\xe9 \\xe8\\xeb\\xe8 \\xf1\\xef\\xee\\xf1 \\xe6\\xe5\\xeb\\xe0\\xed\\xe8\\xff, \\xee\\xe4\\xed\\xee \\xe8\\xe7 \\xea\\xee\\xf2\\xee\\xf0\\xfb\\xf5 \\xee\\xe3\\xf0\\xe0\\xed\\xe8\\xf7\\xe5\\xed\\xee \\xe8 \\xe7\\xe0\\xe2\\xe8\\xf1\\xe8\\xec\\xee \\xe8 \\xef\\xf0\\xe8\\xf5\\xee\\xe4\\xe8\\xf2 \\xee\\xf2 \\xf2\\xe5\\xeb\\xe0 \\xe8 \\xf1\\xee\\xf1\\xf2\\xe0\\xe2\\xeb\\xff\\xe5\\xf2 \\xe2\\xf1\\xe5 \\xf2\\xee, \\xf7\\xf2\\xee \\xec\\xfb \\xed\\xe0\\xe7\\xfb\\xe2\\xe0\\xe5\\xec \\xef\\xee\\xf2\\xf0\\xe5\\xe1\\xed\\xee\\xf1\\xf2\\xff\\xec\\xe8 \\xf7\\xe5\\xeb\\xee\\xe2\\xe5\\xea\\xe0, 2-\\xff \\xe4\\xe5\\xff\\xf2\\xe5\\xeb\\xfc\\xed\\xee\\xf1\\xf2\\xfc \\xe5\\xf1\\xf2\\xfc \\xf1\\xef\\xee\\xf1 \\xe6\\xe5\\xeb\\xe0\\xed\\xe8\\xff \\xe8\\xeb\\xe8 \\xe2\\xee\\xeb\\xff \\xed\\xe5\\xee\\xe3\\xf0\\xe0\\xed\\xe8\\xf7\\xe5\\xed\\xed\\xe0\\xff, \\xf1\\xe0\\xec\\xee\\xee\\xef\\xf0\\xe5\\xe4\\xe5\\xeb\\xff\\xfe\\xf9\\xe0\\xff\\xf1\\xff \\xe8 \\xf1\\xe0\\xec\\xe0 \\xf1\\xe5\\xe1\\xff \\xf3\\xe4\\xee\\xe2\\xeb\\xe5\\xf2\\xe2\\xee\\xf0\\xff\\xfe\\xf9\\xe0\\xff.\\n \\n    \\n \\xd2\\xe5\\xef\\xe5\\xf0\\xfc \\xf0\\xe0\\xf1\\xf1\\xec\\xee\\xf2\\xf0\\xe8\\xec \\xee\\xf2\\xed\\xee\\xf8\\xe5\\xed\\xe8\\xe5 \\xfd\\xf2\\xe8\\xf5 \\xe4\\xe2\\xf3\\xf5 \\xed\\xe0\\xf7\\xe0\\xeb \\xe2 \\xe8\\xf5 \\xf1\\xf3\\xf9\\xed\\xee\\xf1\\xf2\\xe8 \\xe8 \\xe2 \\xe8\\xf5 \\xef\\xf0\\xee\\xff\\xe2\\xeb\\xe5\\xed\\xe8\\xff\\xf5. \\xdd\\xf2\\xe8 \\xf1\\xef\\xee\\xf1\\xee\\xe1\\xed\\xee\\xf1\\xf2\\xe8 \\xe8\\xeb\\xe8 \\xe4\\xee\\xeb\\xe6\\xed\\xfb \\xe1\\xfb\\xf2\\xfc \\xf0\\xe0\\xe2\\xed\\xee\\xf1\\xe8\\xeb\\xfc\\xed\\xfb, \\xe8\\xeb\\xe8 \\xee\\xe4\\xed\\xe0 \\xe8\\xe7 \\xed\\xe8\\xf5 \\xe4\\xee\\xeb\\xe6\\xed\\xe0 \\xef\\xf0\\xe5\\xee\\xe1\\xeb\\xe0\\xe4\\xe0\\xf2\\xfc. \\xd0\\xe0\\xe2\\xed\\xee\\xf1\\xe8\\xeb\\xfc\\xed\\xfb \\xee\\xed\\xe8 \\xed\\xe5 \\xec\\xee\\xe3\\xf3\\xf2 \\xe1\\xfb\\xf2\\xfc, \\xef\\xee\\xf2\\xee\\xec\\xf3 \\xf7\\xf2\\xee \\xee\\xe4\\xed\\xe0 \\xe8\\xe7 \\xed\\xe8\\xf5 \\xed\\xe5 \\xec\\xee\\xe6\\xe5\\xf2 \\xe1\\xfb\\xf2\\xfc \\xee\\xf2\\xe4\\xe5\\xeb\\xfc\\xed, \\xe0 \\xe5\\xf1\\xf2\\xfc \\xed\\xe5\\xee\\xe1\\xf5\\xee\\xe4\\xe8\\xec\\xee\\xe5 \\xf1\\xeb\\xe5\\xe4\\xf1\\xf2\\xe2\\xe8\\xe5 \\xf7\\xe5\\xe3\\xee \\xed\\xe8\\xe1\\xf3\\xe4\\xfc, \\xef\\xf0\\xe5\\xe6\\xe4\\xe5 \\xf1\\xf3\\xf9\\xe5\\xf1\\xf2\\xe2\\xf3\\xfe\\xf9\\xe5\\xe3\\xee, \\xe4\\xf0\\xf3\\xe3\\xe0\\xff \\xe6\\xe5 \\xe5\\xf1\\xf2\\xfc \\xf1\\xe0\\xec\\xe0 \\xef\\xf0\\xe8\\xf7\\xe8\\xed\\xe0 \\xe8 \\xf1\\xeb\\xe5\\xe4\\xf1\\xf2\\xe2\\xe8\\xe5 \\xf1\\xe2\\xee\\xe5\\xe3\\xee \\xf1\\xf3\\xf9\\xe5\\xf1\\xf2\\xe2\\xee\\xe2\\xe0\\xed\\xe8\\xff \\xe8 \\xed\\xe5\\xf1\\xec\\xee\\xf2\\xf0\\xff \\xed\\xe0 \\xf0\\xe0\\xe7\\xeb\\xe8\\xf7\\xed\\xfb\\xe5 \\xe2\\xe8\\xe4\\xfb \\xf1\\xe2\\xee\\xe8\\xf5 \\xef\\xf0\\xee\\xff\\xe2\\xeb\\xe5\\xed\\xe8\\xe9 \\xed\\xe5 \\xef\\xe5\\xf0\\xe5\\xec\\xe5\\xed\\xff\\xe5\\xf2 \\xf1\\xe2\\xee\\xe5\\xe9 \\xf1\\xf3\\xf9\\xed\\xee\\xf1\\xf2\\xe8. \\xdd\\xf2\\xe0 \\xef\\xee\\xf1\\xeb\\xe5\\xe4\\xed\\xff\\xff \\xe4\\xee\\xeb\\xe6\\xed\\xe0 [\\xe1\\xfb\\xf2\\xfc] \\xe2\\xe5\\xf7\\xed\\xee \\xef\\xf0\\xe5\\xee\\xe1\\xeb\\xe0\\xe4\\xe0\\xfe\\xf9\\xe5\\xfe. 2) \\xc2 \\xe4\\xe5\\xe9\\xf1\\xf2\\xe2\\xe8\\xf2\\xe5\\xeb\\xfc\\xed\\xee\\xf1\\xf2\\xe8 (\\xff \\xf3\\xe6\\xe5 \\xe4\\xee\\xea\\xe0\\xe7\\xe0\\xeb \\xe4\\xe5\\xe9\\xf1\\xf2\\xe2.) \\xed\\xe5 \\xf2\\xee\\xeb\\xfc\\xea\\xee \\xf7\\xe0\\xf1\\xf2\\xee, \\xed\\xee \\xe8 \\xe1\\xee\\xeb\\xfc\\xf8\\xe5\\xe9 \\xf7\\xe0\\xf1\\xf2\\xfc\\xfe \\xef\\xee\\xf2\\xf0\\xe5\\xe1\\xed\\xee\\xf1\\xf2\\xe8 \\xef\\xf0\\xe5\\xee\\xe1\\xeb\\xe0\\xe4\\xe0\\xfe\\xf2 \\xed\\xe0\\xe4 \\xe2\\xee\\xeb\\xe5\\xfe, \\xe8 \\xe2\\xe5\\xf0\\xf5 \\xf1\\xee\\xe2\\xe5\\xf0\\xf8\\xe5\\xed\\xf1\\xf2\\xe2\\xe0, \\xea\\xee\\xf2\\xee\\xf0\\xee\\xe3\\xee \\xec\\xee\\xe6\\xe5\\xf2 \\xe4\\xee\\xf1\\xf2\\xe8\\xe3\\xed\\xf3\\xf2\\xfc \\xf7\\xe5\\xeb\\xee\\xe2\\xe5\\xea, \\xe5\\xf1\\xf2\\xfc \\xf1\\xee\\xe2\\xe5\\xf0\\xf8\\xe5\\xed\\xed\\xee\\xe5 \\xef\\xf0\\xe5\\xee\\xe1\\xeb\\xe0\\xe4\\xe0\\xed\\xe8\\xe5 \\xe2\\xee\\xeb\\xe8, \\xf7\\xe5\\xe3\\xee \\xed\\xe8\\xea\\xee\\xe3\\xe4\\xe0 \\xed\\xe5\\xeb\\xfc\\xe7\\xff \\xe4\\xee\\xf1\\xf2\\xe8\\xe3\\xed\\xf3\\xf2\\xfc \\xe8 \\xf7\\xf2\\xee \\xe5\\xf1\\xf2\\xfc \\xf6\\xe5\\xeb\\xfc \\xef\\xee\\xf1\\xf2\\xee\\xff\\xed\\xed\\xee\\xe3\\xee \\xe4\\xee\\xf1\\xf2\\xe8\\xe6\\xe5\\xed\\xe8\\xff.\\n \\n    \\n \\xc8\\xf2\\xe0\\xea \\xf7\\xe5\\xeb\\xee\\xe2\\xe5\\xea \\xf1\\xee\\xf1\\xf2\\xee\\xe8\\xf2 \\xe8\\xe7 \\xe4\\xe2\\xf3\\xf5 \\xef\\xf0\\xee\\xf2\\xe8\\xe2\\xee\\xef\\xee\\xeb\\xee\\xe6\\xed\\xfb\\xf5 \\xe4\\xe5\\xff\\xf2\\xe5\\xeb\\xfc\\xed\\xee\\xf1\\xf2\\xe5\\xe9. \\xd0\\xe0\\xf1\\xf1\\xec\\xee\\xf2\\xf0\\xe8\\xec \\xef\\xe5\\xf0\\xe2\\xf3\\xfe, \\xf2. \\xe5. \\xe4\\xe5\\xff\\xf2\\xe5\\xeb\\xfc\\xed\\xee\\xf1\\xf2\\xfc \\xed\\xe5\\xee\\xe1\\xf5\\xee\\xe4\\xe8\\xec\\xf3\\xfe. \\xcd\\xe0\\xf7\\xe0\\xeb\\xee \\xe8 \\xef\\xf0\\xe8\\xf7\\xe8\\xed\\xe0 \\xee\\xed\\xee\\xe9 \\xed\\xe0\\xf5\\xee\\xe4\\xe8\\xf2\\xf1\\xff, \\xea\\xe0\\xea \\xec\\xfb \\xf3\\xe6\\xe5 \\xe2\\xe8\\xe4\\xe5\\xeb\\xe8, \\xe2\\xee \\xe2\\xf1\\xe5\\xec \\xf1\\xf3\\xf9\\xe5\\xf1\\xf2\\xe2\\xf3\\xfe\\xf9\\xe5\\xec, \\xe1\\xeb\\xe8\\xe6\\xe0\\xe9\\xf8\\xe5\\xe5 \\xe6\\xe5 \\xed\\xe0\\xf7\\xe0\\xeb\\xee \\xed\\xe0\\xf5\\xee\\xe4\\xe8\\xf2\\xf1\\xff \\xe2 \\xf1\\xe0\\xec\\xee\\xec \\xf7\\xe5\\xeb\\xee\\xe2\\xe5\\xea\\xe5. \\xd7\\xe5\\xeb\\xee\\xe2\\xe5\\xea \\xef\\xee\\xf1\\xf0\\xe5\\xe4\\xf1\\xf2\\xe2\\xee\\xec \\xf2\\xe5\\xeb\\xe5\\xf1\\xed\\xfb\\xf5 \\xf7\\xf3\\xe2\\xf1\\xf2\\xe2 \\xee\\xf9\\xf3\\xf9\\xe0\\xe5\\xf2 \\xef\\xf0\\xe5\\xe4\\xec\\xe5\\xf2\\xfb (\\xee\\xf9\\xf3\\xf9\\xe5\\xed\\xe8\\xe5 \\xed\\xe5 \\xe5\\xf1\\xf2\\xfc \\xe4\\xe5\\xff\\xf2\\xe5\\xeb\\xfc\\xed\\xee\\xf1\\xf2\\xfc, \\xed\\xee \\xe5\\xf1\\xf2\\xfc \\xf1\\xf2\\xf0\\xe0\\xe4\\xe0\\xed\\xe8\\xe5); \\xee\\xf9\\xf3\\xf9\\xe5\\xed\\xe8\\xff \\xf1\\xe0\\xec\\xe8 \\xf1\\xee\\xe1\\xee\\xe9 \\xef\\xe5\\xf0\\xe5\\xf5\\xee\\xe4\\xff\\xf2 \\xe2 \\xe4\\xe5\\xff\\xf2\\xe5\\xeb\\xfc\\xed\\xee\\xf1\\xf2\\xfc \\xf2\\xe5\\xeb\\xe5\\xf1\\xed\\xf3\\xfe; \\xfd\\xf2\\xe0 \\xe4\\xe5\\xff\\xf2\\xe5\\xeb\\xfc\\xed\\xee\\xf1\\xf2\\xfc \\x97 \\xf1\\xe0\\xec\\xe0\\xff \\xed\\xe8\\xe7\\xf8\\xe0\\xff;\\n <pb n=\"235\"/>\\n \\xe8 \\xed\\xe0\\xf5\\xee\\xe4\\xe8\\xf2\\xf1\\xff \\xe2\\xee \\xe2\\xf1\\xe5\\xf5 \\xe6\\xe8\\xe2\\xee\\xf2\\xed\\xfb\\xf5 \\xe8 [\\xe2] \\xe1\\xee\\xeb\\xfc\\xf8\\xe5\\xe9 \\xe4\\xe0\\xe6\\xe5 \\xf7\\xe0\\xf1\\xf2\\xe8 \\xf0\\xe0\\xf1\\xf2\\xe5\\xed\\xe8\\xe9, 2) \\xee\\xf9\\xf3\\xf9\\xe5\\xed\\xe8\\xff \\xef\\xe5\\xf0\\xe5\\xf5\\xee\\xe4\\xff\\xf2 \\xf2\\xee\\xe6\\xe5 \\xe8 \\xe2 \\xf1\\xef\\xee\\xf1\\xee\\xe1\\xed\\xee\\xf1\\xf2\\xfc \\xe2\\xee\\xf1\\xef\\xf0\\xe8\\xe8\\xec\\xf7\\xe8\\xe2\\xee\\xf1\\xf2\\xe8 (\\xea\\xee\\xf2\\xee\\xf0\\xf3\\xfe \\xec\\xfb \\xed\\xe0\\xe7\\xfb\\xe2\\xe0\\xe5\\xec \\xef\\xe0\\xec\\xff\\xf2\\xfc\\xfe \\xe8 \\xe2\\xee\\xee\\xe1\\xf0\\xe0\\xe6\\xe5\\xed\\xe8\\xe2\\xee\\xee\\xe1\\xf0\\xe0\\xe6\\xe5\\xedi. \\xdf \\xe6\\xe5 \\xed\\xe5 \\xee\\xf2\\xeb\\xe8\\xf7\\xe0\\xfe \\xfd\\xf2\\xe8\\xf5 \\xe4\\xe2\\xf3\\xf5 \\xf1\\xef\\xee\\xf1\\xee\\xe1\\xed\\xee\\xf1\\xf2\\xe5\\xe9, \\xe8\\xe1\\xee \\xed\\xe5 \\xef\\xee\\xed\\xe8\\xec\\xe0\\xfe \\xf1\\xef\\xee\\xf1\\xee\\xe1\\xed\\xee\\xf1\\xf2\\xe8 \\xe2\\xee\\xf1\\xef\\xf0\\xee\\xe8\\xe7\\xe2\\xee\\xe6\\xe4\\xe5\\xed\\xe8\\xff \\xe1\\xe5\\xe7 \\xf1\\xef\\xee\\xf1\\xee\\xe1\\xed\\xee\\xf1\\xf2\\xe8 \\xf3\\xe4\\xe5\\xf0\\xe6\\xe8\\xe2\\xe0\\xed\\xe8\\xff, \\xed\\xe0\\xee\\xe1\\xee\\xf0\\xee\\xf2, \\xf1\\xef\\xee\\xf1\\xee\\xe1\\xed\\xee\\xf1\\xf2\\xfc \\xe2\\xee\\xf1\\xef\\xf0\\xee\\xe8\\xe7\\xe2 \\xe4\\xe5\\xe9\\xf1\\xf2\\xe2\\xf3\\xe5\\xf2 \\xed\\xe0 \\xed\\xe8\\xe7\\xf8\\xf3\\xfe \\xf1\\xef\\xee\\xf1\\xee\\xe1\\xed\\xee\\xf1\\xf2\\xfc, \\xe8 \\xfd\\xf2\\xee \\xe5\\xf1\\xf2\\xfc \\xe4\\xe5\\xff\\xf2\\xe5\\xeb\\xfc\\xed\\xee\\xf1\\xf2\\xfc \\xe2\\xf2\\xee\\xf0\\xee\\xf1\\xf2\\xe5\\xef\\xe5\\xed\\xed\\xe0\\xff, \\xea\\xee\\xf2\\xee\\xf0\\xf3\\xfe \\xe8\\xec\\xe5\\xe5\\xf2 \\xf7\\xe0\\xf1\\xf2\\xfc \\xe6\\xe8\\xe2\\xee\\xf2\\xed\\xfb\\xf5.\\n \\n    \\n \\xc2\\xf1\\xe5 \\xf2\\xee, \\xf7\\xf2\\xee \\xed\\xe0\\xe7\\xfb\\xe2\\xe0\\xfe\\xf2 \\xf7\\xf3\\xe2\\xf1\\xf2\\xe2\\xe0\\xec\\xe8 \\xe8\\xeb\\xe8 \\xf1\\xf2\\xf0\\xe0\\xf1\\xf2\\xff\\xec\\xe8, \\xef\\xf0\\xe8\\xed\\xe0\\xe4\\xeb\\xe5\\xe6\\xe8\\xf2 \\xea \\xfd\\xf2\\xee\\xe9 \\xe4\\xe5\\xff\\xf2\\xe5\\xeb\\xfc\\xed\\xee\\xf1\\xf2\\xe8. \\xd1\\xef\\xee\\xf1 \\xe2\\xee\\xf1\\xef\\xf0 \\xef\\xe5\\xf0\\xe5\\xf5\\xee\\xe4\\xe8\\xf2 \\xe2 \\xf1\\xef\\xee\\xf1\\xee\\xe1\\xed\\xee\\xf1\\xf2\\xfc \\xe7\\xe0\\xea\\xeb\\xfe\\xf7\\xe5\\xed\\xe8\\xff, \\xea\\xee\\xf2\\xee\\xf0\\xe0\\xff \\xe4\\xe5\\xe9\\xf1\\xf2\\xe2\\xf3\\xe5\\xf2 \\xed\\xe0 \\xee\\xe1\\xe5 \\xed\\xe8\\xe7\\xf8\\xe8\\xff \\xf1\\xef\\xee\\xf1\\xee\\xe1\\xed\\xee\\xf1\\xf2\\xe8 \\xe8 \\xed\\xe5\\xee\\xe1\\xf5\\xee\\xe4\\xe8\\xec\\xee \\xef\\xf0\\xe8\\xed\\xe8\\xec\\xe0\\xe5\\xf2 \\xe4\\xe5\\xe9\\xf1\\xf2\\xe2\\xe8\\xe5 \\xed\\xe0 \\xed\\xe5\\xe5 \\xf1\\xef\\xee\\xf1 \\xe2\\xee\\xf1\\xef\\xf0. \\xdd\\xf2\\xe0 \\xe4\\xe5\\xff\\xf2\\xe5\\xeb\\xfc\\xed\\xee\\xf1\\xf2\\xfc \\xe5\\xf1\\xf2\\xfc \\xe2\\xfb\\xf1\\xf8\\xe0\\xff \\xe8\\xe7 \\xed\\xe5\\xee\\xe1\\xf5\\xee\\xe4\\xe8\\xec\\xfb\\xf5 \\xe4\\xe5\\xff\\xf2\\xe5\\xeb\\xfc\\xed\\xee\\xf1\\xf2\\xe5\\xe9 \\xf7\\xe5\\xeb\\xee\\xe2\\xe5\\xea\\xe0; \\xee\\xed\\xe0 \\xe5\\xf1\\xf2\\xfc \\xe8\\xec\\xff\\xed\\xed\\xee \\xf2\\xee, \\xf7\\xf2\\xee \\xec\\xfb \\xed\\xe0\\xe7\\xfb\\xe2\\xe0\\xe5\\xec \\xf3\\xec\\xee\\xec, \\xe8 \\xed\\xe0\\xf5\\xee\\xe4\\xe8\\xf2\\xf1\\xff \\xf3 \\xe1\\xee\\xeb\\xfc\\xf8\\xe5\\xe9 \\xf7\\xe0\\xf1\\xf2\\xe8 \\xe6\\xe8\\xe2\\xee\\xf2\\xed\\xfb\\xf5.\\n \\n    \\n \\xc8\\xf2\\xe0\\xea\\n \\n      \\n       \\n        \\n         <ref target=\"#backn162\">\\n          162\\n         </ref>\\n        \\n        \\n         \\n          \\xc7\\xe4\\xe5\\xf1\\xfc \\xef\\xf0\\xee\\xef\\xf3\\xf9\\xe5\\xed \\xe3\\xeb\\xe0\\xe3\\xee\\xeb \\xe2\\xf0\\xee\\xe4\\xe5 \\xed\\xe0\\xef\\xf0.:\\n         \\n        \\n        \\n \\xec\\xfb \\xf0\\xe0\\xe7\\xeb\\xe8\\xf7\\xe0\\xe5\\xec\\xf0\\xe0\\xe7\\xeb\\xe8\\xf7\\xe0\\xe5\\xec\\xfa.\\n \\n       \\n      \\n     \\n    \\n    \\n \\xd2\\xe5\\xef\\xe5\\xf0\\xfc \\xf0\\xe0\\xf1\\xf1\\xec\\xee\\xf2\\xf0\\xe8\\xec \\xe4\\xe5\\xff\\xf2\\xe5\\xeb\\xfc\\xed\\xee\\xf1\\xf2\\xfc \\xf1\\xe2\\xee\\xe1\\xee\\xe4\\xed\\xf3\\xfe.\\n \\n    \\n \\xc2\\xee\\xeb\\xff \\xed\\xe5 \\xee\\xe3\\xf0\\xe0\\xed\\xe8\\xf7\\xe5\\xed\\xed\\xe0, \\xf1\\xe0\\xec\\xe0 \\xf1\\xe5\\xe1\\xe5 \\xf3\\xe4\\xee\\xe2\\xeb\\xe5\\xf2\\xe2\\xee\\xf0\\xff\\xe5\\xf2; \\xee\\xed\\xe0 \\xe2\\xfb\\xf0\\xe0\\xe6\\xe0\\xe5\\xf2\\xf1\\xff \\xf1\\xeb\\xe5\\xe4\\xf1\\xeb&#1123;\\xe4 \\xee\\xe1\\xf0:\\n \\n      \\xff \\xe6\\xe5\\xeb\\xe0\\xfe \\xe6\\xe5\\xeb\\xe0\\xf2\\xfc\\n     \\n     . \\xcd\\xee \\xef\\xee\\xf7\\xe5\\xec\\xf3 \\xe6\\xe5 \\xee\\xed\\xe0 \\xe2\\xfb\\xf0\\xe0\\xe6\\xe0\\xe5\\xf2\\xf1\\xff \\xf2\\xe0\\xea\\xfa, \\xe0 \\xed\\xe5 \\xe8\\xed\\xe0\\xf7\\xe5? \\xd1\\xf3\\xf9\\xed\\xee\\xf1\\xf2\\xfc \\xe2\\xee\\xeb\\xe8 \\xed\\xe5\\xe7\\xe0\\xe2\\xe8\\xf1\\xe8\\xec\\xe0, \\xed\\xee \\xe2\\xfb\\xf0\\xe0\\xe6\\xe5\\xed\\xb3\\xe5, \\xed\\xe0\\xef\\xf0\\xe0\\xe2\\xeb\\xe5\\xed\\xb3\\xe5 \\xe8\\xeb\\xe8 \\xf4\\xee\\xf0\\xec\\xe0 \\xe4\\xee\\xeb\\xe6\\xed\\xfb \\xee\\xf2\\xfa \\xf7\\xe5\\xe3\\xee \\xed\\xe8\\xe1\\xf3\\xe4\\xfc \\xe7\\xe0\\xe2\\xe8\\xf1&#1123;\\xf2\\xfc, \\xe0 \\xe8\\xec\\xe5\\xed\\xed\\xee, \\xee\\xed\\xe0 \\xe7\\xe0\\xe2\\xe8\\xf1\\xe8\\xf2\\xfa \\xee\\xf2\\xfa \\xe4\\xf0\\xf3\\xe3\\xee\\xe3\\xee \\xe6\\xe5\\xeb\\xe0\\xed\\xb3\\xff, \\xee\\xf2\\xfa \\xef\\xee\\xf2\\xf0\\xe5\\xe1\\xed\\xee\\xf1\\xf2\\xe8, \\xf2. \\xe5. \\xee\\xf2\\xfa \\xf2&#1123;\\xeb\\xe0, \\xf1\\xeb&#1123;\\xe4[\\xee\\xe2\\xe0\\xf2\\xe5\\xeb\\xfc\\xed\\xee] \\xf5\\xee\\xf2\\xff \\xed\\xe5\\xee\\xe3\\xf0\\xe0\\xed\\xe8\\xf7\\xe5\\xed\\xed\\xe0, \\xed\\xee \\xe2\\xfb\\xf0\\xe0\\xe6\\xe0\\xe5\\xf2\\xf1\\xff \\xe2\\xfa \\xe8\\xe7\\xe2&#1123;\\xf1\\xf2\\xed\\xee\\xe9 \\xf4\\xee\\xf0\\xec&#1123;. \\xc2\\xee\\xeb\\xff \\xed\\xe5 \\xec\\xee\\xe6\\xe5\\xf2\\xfa \\xe4&#1123;\\xe9\\xf1\\xf2\\xe2\\xee\\xe2\\xe0\\xf2\\xfc \\xed\\xe0 \\xee\\xf9\\xf3\\xf9\\xe5\\xed\\xb3\\xff, \\xe8\\xe1\\xee \\xef\\xf0\\xe8\\xf7\\xe8\\xed\\xe0 \\xe8\\xf5\\xfa \\xed\\xe0\\xf5\\xee\\xe4\\xe8\\xf2\\xf1\\xff \\xe2\\xed&#1123; \\xe5\\xff \\xf1\\xf4\\xe5\\xf0\\xfb, \\xf2. \\xe5. \\xe2\\xed&#1123; \\xf7\\xe5\\xeb\\xee\\xe2&#1123;\\xea\\xe0. \\xc4&#1123;\\xe9\\xf1\\xf2\\xe2\\xf3\\xe5\\xf2\\xfa \\xe6\\xe5 \\xee\\xed\\xe0 \\xed\\xe0 \\xe2\\xee\\xf1\\xef\\xf0\\xe8\\xe8\\xec\\xf7\\xe8\\xe2\\xee\\xf1\\xf2\\xfc \\xf2\\xe0\\xea\\xe8\\xec\\xfa \\xee\\xe1\\xf0\\xe0\\xe7\\xee\\xec\\xfa, \\xf7\\xf2\\xee \\xee\\xed\\xe0 \\xe2\\xee\\xf1\\xef\\xf0\\xee\\xe8\\xe7\\xe2\\xee\\xe4\\xe8\\xf2\\xfa \\xf2&#1123; \\xef\\xf0\\xe5\\xe4\\xec\\xe5\\xf2\\xfb, \\xea\\xee\\xf2\\xee\\xf0\\xfb\\xe5 \\xf5\\xee\\xf7\\xe5\\xf2\\xfa, \\xe0 \\xed\\xe5 \\xf2&#1123;, \\xea\\xee\\xf2\\xee\\xf0\\xfb\\xe5 \\xef\\xf0\\xee\\xff\\xe2\\xeb\\xff\\xfe\\xf2\\xf1\\xff; \\xfd\\xf2\\xe0 \\xe6\\xe5 \\xf1\\xef\\xee\\xf1\\xee\\xe1\\xed\\xee\\xf1\\xf2\\xfc \\xe4&#1123;\\xe9\\xf1\\xf2\\xe2\\xf3\\xe5\\xf2\\xfa \\xed\\xe0 \\xf1\\xef\\xee\\xf1\\xee\\xe1\\xed\\xee\\xf1\\xf2\\xfc \\xe7\\xe0\\xea\\xeb\\xfe\\xf7\\xe5\\xed\\xb3\\xff, \\xea\\xee\\xf2\\xee\\xf0\\xe0\\xff \\xef\\xf0\\xe8 \\xe4&#1123;\\xe9\\xf1\\xf2\\xe2\\xb3\\xe8 \\xed\\xe0 \\xed\\xe5\\xe5 \\xe2\\xee\\xeb\\xe8 \\xe7\\xe0\\xea\\xeb\\xfe\\xf7\\xe0\\xe5\\xf2\\xfa \\xf2\\xee, \\xf7\\xf2\\xee \\xee\\xed\\xe0 \\xf5\\xee\\xf7\\xe5\\xf2\\xfa, \\xe8 \\xe4&#1123;\\xeb\\xe0\\xe5\\xf2\\xf1\\xff \\xf0\\xe0\\xe7\\xf3\\xec\\xee\\xec\\xfa.\\n     \\n      \\n       \\n        \\n         <ref target=\"#backn163\">\\n          163\\n         </ref>\\n        \\n        \\n         \\n          \\xc2 \\xef\\xee\\xf1\\xeb\\xe5\\xe4\\xed\\xe5\\xec \\xef\\xf0\\xe5\\xe4\\xeb\\xee\\xe6\\xe5\\xed\\xe8\\xe8 \\xec\\xe5\\xf1\\xf2\\xee\\xe8\\xec\\xe5\\xed\\xe8\\xff\\n         \\n        \\n        \\n         \\xea\\xee\\xf2\\xee\\xf0\\xe0\\xff, \\xed\\xe5\\xe5\\n        \\n        \\n         \\n          \\xe8\\n         \\n        \\n        \\n         \\xee\\xed\\xe0\\n        \\n        \\n         \\n          \\xe2 \\xf0\\xf3\\xea\\xee\\xef\\xe8\\xf1\\xe8 \\xf1\\xf2\\xee\\xff\\xf2 \\xed\\xe5\\xef\\xee\\xed\\xff\\xf2\\xed\\xfb\\xec \\xee\\xe1\\xf0\\xe0\\xe7\\xee\\xec \\xe2 \\xec\\xf3\\xe6\\xf1\\xea\\xee\\xec \\xf0\\xee\\xe4\\xe5.\\n         \\n        \\n       \\n      \\n     \\n    \\n    \\n \\xd2\\xe5\\xef\\xe5\\xf0\\xfc \\xef\\xf0\\xe5\\xe4\\xf1\\xf2\\xee\\xe8\\xf2 \\xe2\\xee\\xef\\xf0\\xee\\xf1, \\xea\\xe0\\xea\\xe8\\xec \\xee\\xe1\\xf0\\xe0\\xe7\\xee\\xec \\xef\\xf0\\xee\\xe8\\xf1\\xf5\\xee\\xe4\\xe8\\xf2\\xfc \\xef\\xf0\\xe8 \\xef\\xee\\xf1\\xf0\\xe5\\xe4\\xf1\\xf2\\xe2\\xe5 \\xe2\\xee\\xeb\\xe8 \\xef\\xe5\\xf0\\xe5\\xf5\\xee\\xe4\\n \\n      \\n       \\n        \\n         <ref target=\"#backn164\">\\n          164\\n         </ref>\\n        \\n        \\n         \\n          \\xc2 \\xf0\\xf3\\xea\\xee\\xef\\xe8\\xf1\\xe8 \\xee\\xef\\xe8\\xf1\\xea\\xe0:\\n         \\n        \\n        \\n \\xef\\xe5\\xf0\\xe5\\xf5\\xee\\xe4\\xe8\\xf2\\xef\\xe5\\xf0\\xe5\\xf5\\xee\\xe4\\xe8\\xf2\\xfa.\\n \\n       \\n      \\n     \\n \\xf1\\xef\\xee\\xf1;\\n <pb n=\"236\"/>\\n \\xe7\\xe0\\xea\\xeb\\xfe\\xf7. \\xdd\\xf2\\xee \\xef\\xee\\xf1\\xeb\\xe5\\xe4 \\xe1\\xf3\\xe4\\xe5\\xf2 \\xe2\\xfb\\xf8\\xe5 \\xef\\xe5\\xf0\\xe2\\xee\\xe3\\xee \\xe7\\xe0\\xea\\xeb\\xfe\\xf7\\xe5\\xed\\xe8\\xff, \\xed\\xee \\xe8 \\xfd\\xf2\\xee \\xed\\xe5 \\xec\\xee\\xe6\\xe5\\xf2 \\xf3\\xe4\\xee\\xe2\\xeb\\xe5\\xf2 \\xe2\\xee\\xeb, \\xef\\xf0\\xe8\\xed\\xe8\\xec\\xe0\\xe5\\xf2 \\xe2\\xee\\xeb\\xff \\xe8, \\xe4\\xe5\\xe9\\xf1\\xf2\\xe2\\xf3\\xff \\xed\\xe0 \\xe2\\xee\\xee\\xe1\\xf0\\xe0\\xe6\\xe5\\xed\\xe8\\xe5, \\xf2. \\xe5. \\xe7\\xe0\\xf1\\xf2\\xe0\\xe2\\xeb\\xff\\xff \\xe5\\xe3\\xee \\xef\\xf0\\xe8\\xed\\xe8\\xec\\xe0\\xf2\\xfc \\xf2\\xe5, \\xe0 \\xed\\xe5 \\xe4\\xf0\\xf3\\xe3\\xe8\\xe5,\\n \\n      \\n       \\n        \\n         <ref target=\"#backn165\">\\n          165\\n         </ref>\\n        \\n        \\n         \\n          \\xcf\\xf0\\xee\\xef\\xf3\\xf1\\xea, \\xea\\xee\\xf2\\xee\\xf0\\xfb\\xe9 \\xed\\xe5 \\xeb\\xe5\\xe3\\xea\\xee \\xe2\\xee\\xf1\\xef\\xee\\xeb\\xed\\xe8\\xf2\\xfc. \\xc2\\xf1\\xe5 \\xef\\xf0\\xe5\\xe4\\xeb\\xee\\xe6\\xe5\\xed\\xe8\\xe5, \\xee\\xf2 \\xf1\\xeb\\xee\\xe2:\\n         \\n        \\n        \\n \\xef\\xf0\\xe8\\xed\\xe8\\xec\\xe0\\xe5\\xf2\\xef\\xf0\\xe8\\xed\\xe8\\xec\\xe0\\xe5\\xf2\\xfa \\xe2\\xee\\xeb\\xff\\n \\n        \\n         \\n          \\xed\\xee\\xf1\\xe8\\xf2 \\xed\\xe5 \\xe2\\xef\\xee\\xeb\\xed\\xe5 \\xf1\\xeb\\xee\\xe6\\xe8\\xe2\\xf8\\xe8\\xe9\\xf1\\xff \\xf5\\xe0\\xf0\\xe0\\xea\\xf2\\xe5\\xf0.\\n         \\n        \\n       \\n      \\n     \\n     \\n      \\xff \\xe6\\xe5\\xeb\\xe0\\xfe\\n     \\n     .\\n    \\n    \\n \\xd2\\xe5\\xef\\xe5\\xf0\\xfc \\xf0\\xe0\\xf1\\xf1\\xec\\xee\\xf2\\xf0\\xe8\\xec: \\xf7\\xf2\\xee \\xe6\\xe5 \\xe1\\xf3\\xe4\\xf3\\xf2 \\xfd\\xf2\\xe8\\n \\n \\xe2\\xf0\\xee\\xe6\\xe4\\xe5\\xed\\xed\\xfb\\xe5\\xe2\\xf0\\xee\\xe6\\xe4\\xe5\\xed\\xed\\xfb\\xff \\xef\\xee\\xed\\xff\\xf2\\xe8\\xff\\xef\\xee\\xed\\xff\\xf2i\\xff \\xf7\\xe5\\xeb\\xee\\xe2\\xe5\\xea\\xe0\\xf7\\xe5\\xeb\\xee\\xe2&#1123;\\xea\\xe0\\n \\n     ,\\n     \\n \\xe8\\xed\\xf2\\xf3\\xe8\\xf6\\xe8\\xff\\xe8\\xed\\xf2\\xf3\\xe8\\xf6i\\xff\\n \\n     , \\xea\\xe0\\xea\\xfa \\xed\\xe5 \\xef\\xee\\xed\\xff\\xf2\\xb3\\xe5 \\xef\\xf0\\xee\\xf1\\xf2\\xf0\\xe0\\xed\\xf1\\xf2\\xe2\\xe0, \\xeb\\xe8\\xed\\xb3\\xe8, \\xf2\\xee\\xf7\\xea\\xe8, \\xf0\\xe0\\xe7\\xec&#1123;\\xf0\\xe0, \\xea\\xee\\xeb\\xe8\\xf7\\xe5\\xf1\\xf2\\xe2\\xe0? \\xd1\\xf3\\xf9\\xe5\\xf1\\xf2\\xe2\\xee \\xe2\\xf1\\xe5\\xe3\\xee \\xf7\\xe5\\xeb\\xee\\xe2&#1123;\\xea\\xe0 \\xf1\\xee\\xf1\\xf2\\xe0\\xe2\\xeb\\xff\\xe5\\xf2\\xfa \\xf2\\xee\\xeb\\xfc\\xea\\xee \\xe5\\xe3\\xee \\xed\\xe5\\xee\\xe3\\xf0\\xe0\\xed\\xe8\\xf7\\xe5\\xed\\xed\\xe0\\xff \\xe2\\xee\\xeb\\xff \\xe8 \\xef\\xf0\\xe8\\xf7\\xe8\\xed\\xe0 \\xe5\\xff, \\xed\\xe0\\xf5\\xee\\xe4[\\xff\\xf9\\xe0\\xff\\xf1\\xff] \\xe2\\xfa \\xed\\xe5\\xe9 \\xe6\\xe5, \\xe2\\xf1\\xe5 \\xe6\\xe5 \\xee\\xf1\\xf2\\xe0\\xeb\\xfc\\xed\\xee\\xe5, \\xed\\xe5 \\xe8\\xec&#1123;\\xff \\xe2\\xfa \\xf1\\xe5\\xe1&#1123; \\xf1\\xe2\\xee\\xe5\\xe3\\xee \\xed\\xe0\\xf7\\xe0\\xeb\\xe0, \\xe8\\xec&#1123;\\xe5\\xf2\\xfa \\xee\\xed\\xee\\xe5 \\xe2\\xfa \\xef\\xee\\xf1\\xf2\\xee\\xf0\\xee\\xed\\xed\\xe5\\xec\\xfa, \\xe0 \\xe8\\xec\\xe5\\xed\\xed\\xee, \\xed\\xe5 \\xe2\\xfa \\xe4\\xf3\\xf5\\xee\\xe2\\xed\\xee\\xec\\xfa, \\xe8\\xe1\\xee \\xe8\\xec&#1123;\\xe5\\xf2\\xfa \\xef\\xf0\\xe8\\xf7\\xe8\\xed\\xfb \\xf4\\xe8\\xe7[\\xe8\\xf7\\xe5\\xf1\\xea\\xb3\\xff], \\xe0 \\xe2\\xfa \\xf4\\xe8\\xe7\\xe8\\xf7[\\xe5\\xf1\\xea\\xee\\xec\\xfa]. \\xd7\\xf2\\xee \\xe6\\xe5 \\xec\\xfb \\xed\\xe0\\xe7\\xfb\\xe2\\xe0\\xe5\\xec\\xfa \\xe8\\xed\\xf2\\xf3\\xe8\\xf6\\xb3\\xe5\\xe9, \\xe5\\xf1\\xf2\\xfc \\xed\\xe8\\xf7\\xf2\\xee \\xe8\\xed\\xee\\xe5, \\xea\\xe0\\xea \\xed\\xe5\\xee\\xe1\\xf5\\xee\\xe4\\xe8\\xec\\xee\\xe5 \\xe7\\xe0\\xea\\xeb\\xfe\\xf7\\xe5\\xed\\xb3\\xe5, \\xef\\xf0\\xe8\\xf7\\xe8\\xed\\xe0 \\xea\\xee\\xf2\\xee\\xf0\\xfb\\xf5\\xfa \\xed\\xe0\\xf5\\xee[\\xe4\\xe8\\xf2\\xf1\\xff] \\xe2\\xfa \\xee\\xf9\\xf3\\xf9\\xe5\\xed\\xb3\\xff\\xf5\\xfa, \\xef\\xf0\\xe8\\xf7\\xe8\\xed\\xe0 \\xea\\xee\\xf2\\xee\\xf0\\xfb\\xec\\xfa \\xed\\xe0\\xf5\\xee\\xe4\\xe8\\xf2\\xf1\\xff \\xe2\\xfa \\xec\\xb3\\xf0&#1123;, \\xe0 \\xf2\\xe0\\xea\\xfa \\xea\\xe0\\xea\\xfa \\xef\\xf0\\xe8\\xf7\\xe8\\xed\\xfb \\xec\\xb3\\xf0\\xe0 \\xec\\xfb \\xed\\xe5 \\xe2\\xe8\\xe4\\xe8\\xec\\xfa, \\xf1\\xeb&#1123;\\xe4\\xee\\xe2\\xe0\\xf2\\xe5\\xeb\\xfc\\xed\\xee, \\xe5\\xff \\xed&#1123;\\xf2\\xfa.\\n    \\n    \\n \\xc2 \\xed\\xe0\\xf7\\xe0\\xeb\\xe5 \\xff \\xf1\\xea\\xe0\\xe7\\xe0\\xeb, \\xf7\\xf2\\xee \\xed\\xe0\\xf5\\xee\\xe6\\xf3 \\xe2\\xee \\xec\\xed\\xe5 \\xed\\xe0\\xf7\\xe0\\xeb\\xee\\xec \\xe2\\xf1\\xe5\\xe3\\xee \\xe4\\xe2\\xe5 \\xe4\\xe5\\xff\\xf2\\xe5\\xeb\\xfc\\xed\\xee\\xf1\\xf2\\xe8; \\xed\\xee \\xf7\\xf2\\xee \\xe6\\xe5 \\xe5\\xf1\\xf2\\xfc\\n \\n      \\xdf\\n     \\n     ?...\\n     \\n      \\xdf\\n     \\n \\xe5\\xf1\\xf2\\xfc \\xf1\\xee\\xe5\\xe4\\xe8\\xed\\xe5\\xed\\xe8\\xe5 \\xe4\\xe2\\xf3\\xf5 \\xe4\\xe5\\xff\\xf2\\xe5\\xeb\\xfc\\xed\\xee\\xf1\\xf2\\xe5\\xe9; \\xe4\\xe5\\xff\\xf2\\xe5\\xeb\\xfc\\xed\\xee\\xf1\\xf2\\xfc \\xe6\\xe5 \\xe5\\xf1\\xf2\\xfc \\xed\\xe5\\xf3\\xe4\\xee\\xe2\\xeb\\xe5\\xf2\\xe2\\xee\\xf0\\xe5\\xed\\xed\\xee\\xe5 \\xf1\\xf2\\xf0\\xe5\\xec\\xeb\\xe5\\xed\\xe8\\xe5 \\xe8\\xeb\\xe8 \\xe1\\xee\\xf0\\xfc\\xe1\\xe0. \\xcf\\xe5\\xf0\\xe2\\xf3\\xfe \\xed\\xe5\\xeb\\xfc\\xe7\\xff \\xed\\xe0\\xe7\\xe2\\xe0\\xf2\\xfc \\xe4\\xe5\\xff\\xf2\\xe5\\xeb\\xfc\\xed\\xee\\xf1\\xf2\\xfc\\xfe, \\xed\\xee \\xe4\\xe2\\xe8\\xe6\\xe5\\xed\\xe8\\xe5\\xec, \\xe8\\xe1\\xee \\xe4\\xe5\\xff\\xf2\\xe5\\xeb\\xfc\\xed\\xee\\xf1\\xf2\\xfc \\xef\\xf0\\xe5\\xe4\\xef\\xee\\xeb\\xe0\\xe3\\xe0\\xe5\\xf2 \\xf1\\xf2\\xf0\\xe5\\xec\\xeb\\xe5\\xed\\xe8\\xe5, \\xed\\xee \\xe7\\xe4\\xe5\\xf1\\xfc \\xec\\xfb \\xed\\xe5 \\xe2\\xe8\\xe4\\xe8\\xec \\xf1\\xf2\\xf0\\xe5\\xec\\xeb\\xe5\\xed\\xe8\\xff, \\xe0 \\xf2\\xee\\xeb\\xfc\\xea\\xee \\xe4\\xe2\\xe8\\xe6\\xe5\\xed\\xe8\\xe5 \\xe8\\xeb\\xe8 \\xf7\\xe0\\xf1\\xf2\\xfc \\xe4\\xe5\\xff\\xf2\\xe5\\xeb\\xfc\\xed\\xee\\xf1\\xf2\\xe8, \\xed\\xee \\xe1\\xe5\\xf1\\xea\\xee\\xed\\xe5\\xf7\\xed\\xee\\xe9. \\xc2\\xf2\\xee\\xf0\\xee\\xe5 \\xed\\xe0\\xf7\\xe0\\xeb\\xee \\xff \\xef\\xee\\xed\\xe8\\xec\\xe0\\xfe \\xea\\xe0\\xea \\xed\\xe5\\xee\\xe3\\xf0\\xe0\\xed\\xe8\\xf7\\xe5\\xed\\xed\\xee\\xe5, \\xed\\xee \\xea\\xe0\\xea \\xe4\\xe5\\xff\\xf2\\xe5\\xeb\\xfc\\xed\\xee\\xf1\\xf2\\xfc \\xed\\xe5 \\xec\\xee\\xe3\\xf3 \\xef\\xf0\\xe5\\xe4\\xf1\\xf2\\xe0\\xe2\\xe8 \\xf1\\xe5\\xe1\\xe5 \\xe5\\xe3\\xee \\xe8\\xed\\xe0\\xf7\\xe5, \\xea\\xe0\\xea \\xef\\xf0\\xee\\xff\\xe2\\xeb\\xff\\xfe\\xf9\\xe5\\xe5\\xf1\\xff \\xe8\\xe7\\xe2\\xe5\\xf1\\xf2\\xed\\xfb\\xec [\\xee\\xe1\\xf0\\xe0\\xe7\\xee\\xec], \\xed\\xee \\xed\\xe5 \\xf3\\xe4\\xee\\xe2\\xeb\\xe5\\xf2\\xe2\\xee\\xf0\\xe5\\xed\\xed\\xee\\xe5 \\xe2 \\xf1\\xe2\\xee\\xe5\\xec \\xef\\xf0\\xee\\xff\\xe2\\xeb\\xe5\\xed\\xe8\\xe8, \\xf2. \\xe5. \\xe1\\xee\\xf0\\xfe\\xf9\\xe5\\xe5\\xf1\\xff.\\n \\n      \\n       \\n        \\n         <ref target=\"#backn166\">\\n          166\\n         </ref>\\n        \\n        \\n         \\n          \\xc2 \\xef\\xee\\xf1\\xeb\\xe5\\xe4\\xed\\xe5\\xec \\xef\\xf0\\xe5\\xe4\\xeb\\xee\\xe6\\xe5\\xed\\xe8\\xe8 \\xe0\\xe2\\xf2\\xee\\xf0 \\xe2\\xec\\xe5\\xf1\\xf2\\xee:\\n         \\n        \\n        \\n         \\xed\\xe0\\xf7\\xe0\\xeb\\xee\\n        \\n        \\n         \\n          \\xf1\\xef\\xe5\\xf0\\xe2\\xe0 \\xf3\\xef\\xee\\xf2\\xf0\\xe5\\xe1\\xe8\\xeb \\xf1\\xeb\\xee\\xe2\\xee\\n         \\n        \\n        \\n         \\xf1\\xe8\\xeb\\xf3,\\n        \\n        \\n         \\n          \\xe8, \\xef\\xee\\xef\\xf0\\xe0\\xe2\\xe8\\xe2, \\xe7\\xe0\\xe1\\xfb\\xeb \\xf1\\xee\\xe3\\xeb\\xe0\\xf1\\xee\\xe2\\xe0\\xf2\\xfc \\xf1 \\xed\\xee\\xe2\\xfb\\xec \\xf1\\xf3\\xf9\\xe5\\xf1\\xf2\\xe2\\xe8\\xf2\\xe5\\xeb\\xfc\\xed\\xfb\\xec \\xe2\\xf1\\xe5 \\xee\\xf2\\xed\\xee\\xf1\\xff\\xf9\\xe8\\xe5\\xf1\\xff \\xea \\xed\\xe5\\xec\\xf3 \\xee\\xef\\xf0\\xe5\\xe4\\xe5\\xeb\\xe5\\xed\\xe8\\xff, \\xea\\xee\\xf2\\xee\\xf0\\xfb\\xe5 \\xf2\\xe0\\xea \\xe8 \\xee\\xf1\\xf2\\xe0\\xeb\\xe8\\xf1\\xfc \\xe2 \\xe6\\xe5\\xed\\xf1\\xea\\xee\\xec \\xf0\\xee\\xe4\\xe5. \\xc4\\xeb\\xff \\xff\\xf1\\xed\\xee\\xf1\\xf2\\xe8 \\xec\\xfb \\xe4\\xee\\xeb\\xe6\\xed\\xfb \\xe1\\xfb\\xeb\\xe8 \\xf1\\xe4\\xe5\\xeb\\xe0\\xf2\\xfc \\xfd\\xf2\\xee \\xe7\\xe0 \\xed\\xe5\\xe3\\xee.\\n         \\n        \\n       \\n      \\n     \\n    \\n    \\n     <pb n=\"237\"/>\\n    \\n   \\n  \\n </text>\\n'"
      ]
     },
     "execution_count": 169,
     "metadata": {},
     "output_type": "execute_result"
    }
   ],
   "source": [
    "etree.tostring(reg, encoding='cp1251')"
   ]
  },
  {
   "cell_type": "code",
   "execution_count": 154,
   "metadata": {
    "collapsed": true
   },
   "outputs": [],
   "source": [
    "etree.strip_tags(root, '{http://www.tei-c.org/ns/1.0}div')"
   ]
  },
  {
   "cell_type": "code",
   "execution_count": 162,
   "metadata": {
    "collapsed": false
   },
   "outputs": [],
   "source": [
    "for p in root.findall(\".//tei:text/tei:div/tei:div/tei:p\", tei_ns):\n",
    "    print (p.getchildren())"
   ]
  },
  {
   "cell_type": "code",
   "execution_count": 161,
   "metadata": {
    "collapsed": true
   },
   "outputs": [],
   "source": [
    "for p in root.findall(\".//tei:text/tei:div/tei:div/tei:p\", tei_ns):\n",
    "    print (p.text)"
   ]
  },
  {
   "cell_type": "code",
   "execution_count": 50,
   "metadata": {
    "collapsed": false
   },
   "outputs": [
    {
     "ename": "TypeError",
     "evalue": "Argument 'element' has incorrect type (expected lxml.etree._Element, got NoneType)",
     "output_type": "error",
     "traceback": [
      "\u001b[1;31m---------------------------------------------------------------------------\u001b[0m",
      "\u001b[1;31mTypeError\u001b[0m                                 Traceback (most recent call last)",
      "\u001b[1;32m<ipython-input-50-5713f2340859>\u001b[0m in \u001b[0;36m<module>\u001b[1;34m()\u001b[0m\n\u001b[0;32m      1\u001b[0m \u001b[1;32mfor\u001b[0m \u001b[0mp\u001b[0m \u001b[1;32min\u001b[0m \u001b[0mroot\u001b[0m\u001b[1;33m.\u001b[0m\u001b[0mfindall\u001b[0m\u001b[1;33m(\u001b[0m\u001b[1;34m\".//tei:text/tei:div/tei:div/tei:p\"\u001b[0m\u001b[1;33m,\u001b[0m \u001b[0mtei_ns\u001b[0m\u001b[1;33m)\u001b[0m\u001b[1;33m:\u001b[0m\u001b[1;33m\u001b[0m\u001b[0m\n\u001b[0;32m      2\u001b[0m     \u001b[1;32mfor\u001b[0m \u001b[0mi\u001b[0m \u001b[1;32min\u001b[0m \u001b[0mp\u001b[0m\u001b[1;33m:\u001b[0m\u001b[1;33m\u001b[0m\u001b[0m\n\u001b[1;32m----> 3\u001b[1;33m         \u001b[0mi\u001b[0m\u001b[1;33m.\u001b[0m\u001b[0mremove\u001b[0m\u001b[1;33m(\u001b[0m\u001b[0mi\u001b[0m\u001b[1;33m.\u001b[0m\u001b[0mfind\u001b[0m\u001b[1;33m(\u001b[0m\u001b[1;34m'orig'\u001b[0m\u001b[1;33m)\u001b[0m\u001b[1;33m)\u001b[0m\u001b[1;33m\u001b[0m\u001b[0m\n\u001b[0m\u001b[0;32m      4\u001b[0m     \u001b[1;31m#etree.strip_tags(p, 'hi')\u001b[0m\u001b[1;33m\u001b[0m\u001b[1;33m\u001b[0m\u001b[0m\n\u001b[0;32m      5\u001b[0m     \u001b[1;31m#for i in p.findall('choice'):\u001b[0m\u001b[1;33m\u001b[0m\u001b[1;33m\u001b[0m\u001b[0m\n",
      "\u001b[1;31mTypeError\u001b[0m: Argument 'element' has incorrect type (expected lxml.etree._Element, got NoneType)"
     ]
    }
   ],
   "source": [
    "for p in root.findall(\".//tei:text/tei:div/tei:div/tei:p\", tei_ns):\n",
    "    for i in p:\n",
    "        i.remove(i.find('orig'))\n",
    "    #etree.strip_tags(p, 'hi')\n",
    "    #for i in p.findall('choice'):\n",
    "    #    i.remove(i.find('orig'))\n",
    "    #    etree.strip_tags(i, 'reg')\n",
    "    #print (p.text)"
   ]
  },
  {
   "cell_type": "code",
   "execution_count": 20,
   "metadata": {
    "collapsed": false
   },
   "outputs": [
    {
     "data": {
      "text/plain": [
       "'\\n 1) Ежели бы '"
      ]
     },
     "execution_count": 20,
     "metadata": {},
     "output_type": "execute_result"
    }
   ],
   "source": [
    "root.findall(\".//tei:text/tei:div/tei:div/tei:p\", tei_ns)[0].text"
   ]
  },
  {
   "cell_type": "code",
   "execution_count": 12,
   "metadata": {
    "collapsed": false
   },
   "outputs": [],
   "source": [
    "etree.strip_tags(root.findall(\".//tei:text/tei:div/tei:div/tei:p\", tei_ns)[0], 'hi')"
   ]
  },
  {
   "cell_type": "code",
   "execution_count": 3,
   "metadata": {
    "collapsed": true
   },
   "outputs": [],
   "source": [
    "etree.strip_tags(root, 'hi')"
   ]
  },
  {
   "cell_type": "code",
   "execution_count": 334,
   "metadata": {
    "collapsed": false
   },
   "outputs": [],
   "source": [
    "for i in root.findall('choice'):\n",
    "    i.remove(i.find('orig'))\n",
    "    etree.strip_tags(i, 'reg')"
   ]
  },
  {
   "cell_type": "code",
   "execution_count": 335,
   "metadata": {
    "collapsed": false
   },
   "outputs": [
    {
     "data": {
      "text/plain": [
       "'   Акциома .  Что не имеет причины, то независимо. '"
      ]
     },
     "execution_count": 335,
     "metadata": {},
     "output_type": "execute_result"
    }
   ],
   "source": [
    "etree.strip_tags(root, 'choice')\n",
    "root.text"
   ]
  },
  {
   "cell_type": "code",
   "execution_count": 331,
   "metadata": {
    "collapsed": false
   },
   "outputs": [
    {
     "name": "stdout",
     "output_type": "stream",
     "text": [
      "reg {}\n",
      "reg {}\n"
     ]
    }
   ],
   "source": [
    "for child in root:\n",
    "    print(child.tag, child.attrib)"
   ]
  },
  {
   "cell_type": "code",
   "execution_count": 311,
   "metadata": {
    "collapsed": false
   },
   "outputs": [
    {
     "data": {
      "text/plain": [
       "[<Element choice at 0x1bdafdb96c8>]"
      ]
     },
     "execution_count": 311,
     "metadata": {},
     "output_type": "execute_result"
    }
   ],
   "source": [
    "w = root.findall('hi')[0].findall('choice')\n",
    "w"
   ]
  },
  {
   "cell_type": "code",
   "execution_count": null,
   "metadata": {
    "collapsed": true
   },
   "outputs": [],
   "source": []
  },
  {
   "cell_type": "code",
   "execution_count": 289,
   "metadata": {
    "collapsed": false
   },
   "outputs": [],
   "source": [
    "for profile in child.findall(\".//profile[@updated='true']\"):\n",
    "    child.remove(profile)"
   ]
  },
  {
   "cell_type": "code",
   "execution_count": 281,
   "metadata": {
    "collapsed": false
   },
   "outputs": [
    {
     "data": {
      "text/plain": [
       "' '"
      ]
     },
     "execution_count": 281,
     "metadata": {},
     "output_type": "execute_result"
    }
   ],
   "source": [
    "root.text"
   ]
  },
  {
   "cell_type": "code",
   "execution_count": 251,
   "metadata": {
    "collapsed": false
   },
   "outputs": [
    {
     "data": {
      "text/plain": [
       "' '"
      ]
     },
     "execution_count": 251,
     "metadata": {},
     "output_type": "execute_result"
    }
   ],
   "source": [
    "root.text"
   ]
  },
  {
   "cell_type": "code",
   "execution_count": 243,
   "metadata": {
    "collapsed": false,
    "scrolled": true
   },
   "outputs": [
    {
     "data": {
      "text/plain": [
       "'1) Ежели бы Я желаю знать правду, желаю знать, что [такое] я, почему я ощущаю     2) Но,  Теперь  Все то, что  Теперь Воля не ограниченна, сама Теперь Теперь  '"
      ]
     },
     "execution_count": 243,
     "metadata": {},
     "output_type": "execute_result"
    }
   ],
   "source": [
    "get_one_writing('.\\\\data\\\\Final\\\\[«Ежели бы человек не желал…»] 1.xml').text"
   ]
  },
  {
   "cell_type": "code",
   "execution_count": null,
   "metadata": {
    "collapsed": true
   },
   "outputs": [],
   "source": [
    "get_one_writing('.\\\\data\\\\Final\\\\Альберт 5.xml')"
   ]
  },
  {
   "cell_type": "code",
   "execution_count": 189,
   "metadata": {
    "collapsed": true
   },
   "outputs": [],
   "source": [
    "path = '.\\\\data\\\\Final\\\\'"
   ]
  },
  {
   "cell_type": "code",
   "execution_count": 191,
   "metadata": {
    "collapsed": false
   },
   "outputs": [
    {
     "name": "stdout",
     "output_type": "stream",
     "text": [
      "Abrégé de l’Evangile 24.xml\n",
      "AMOUR DE LA PATRIE 1.xml\n",
      "Carthago delenda est 39.xml\n",
      "Carthago delenda est. Черновое 39.xml\n",
      "Letter to a Hindoo (Письмо к индусу) 37.xml\n",
      "NOTES SUR LE SECOND CHAPITRE DES «CARACTÈRES» DE LA BRUYÈRE 1.xml\n",
      "The hostelry (Гостиница) 37.xml\n",
      "[Carthago delenda est] («Жизнь, та форма жизни»...) 27.xml\n",
      "[LE PRÉSENT, LE PASSÉ ET LE FUTUR] 1.xml\n",
      "[«Давно позабыл я о счастьи ...»] 1.xml\n",
      "[«Дядинька Жданов и кавалер Чернов»] 3.xml\n",
      "[«Ежели бы человек не желал…»] 1.xml\n",
      "[«Ей, Марьяна, брось работу!..»] 1.xml\n",
      "[«Знание музыки - субъективное и объективное...»] 1.xml\n",
      "[«Начала» романа «Сто лет»] 17.xml\n",
      "[«Начала» романа времен Петра I. Азовские походы] 17.xml\n",
      "[«Начала» романа времен Петра I. Кожуховский поход] 17.xml\n",
      "[«Начала» романа времен Петра I. Переход власти от Софьи к Петру] 17.xml\n",
      "[«Начала» романа времен Петра I. Разгар Великой Северной войны] 17.xml\n",
      "[«Начала» романа времен Петра I. Семья Алексея Михайловича и происхождение Петра I] 17.xml\n",
      "[«Он не мог ни уехать, ни оставаться...»] 5.xml\n",
      "[«С тех пор, как я помню свою жизнь…»] 1.xml\n",
      "[«Святочная ночь»] 3.xml\n",
      "[«Эй, Марьяна, брось работу!..»] 1.xml\n",
      "[Альберт. Варианты редакций] 5.xml\n",
      "[Бессмысленные мечтания] 31.xml\n",
      "[Бессмысленные мечтания] Планы и варианты. 31.xml\n",
      "[Благо для всех] 26.xml\n",
      "[В некотором царстве] 26.xml\n",
      "[Вариант «Рубки леса»] 3.xml\n",
      "[Вариант из рукописи А комедии Зараженное семейство] 7.xml\n",
      "[Вариант из рукописи № 5 комедии Зараженное семейство] 7.xml\n",
      "[Вариант из рукописи № 8 комедии Зараженное семейство] 7.xml\n",
      "[Вариант первой редакции предисловия к «Цветнику»] 26.xml\n",
      "[Варианты из 2-й и 3-й редакции Детства] 1.xml\n",
      "[Варианты из второй редакции «Юности»] 2.xml\n",
      "[Варианты из первой и второй редакции «Отрочества»] 2.xml\n",
      "[Варианты из рукописей «Записки маркера»] 3.xml\n",
      "[Варианты из рукописей «Святочной ночи»] 3.xml\n",
      "[Варианты из рукописи «Разжалованного»] 3.xml\n",
      "[Варианты из рукописных редакций «Набега»] 3.xml\n",
      "[Варианты к «Беседе досужих людей» и «Ходите в свете пока есть свет»] 26.xml\n",
      "[Варианты к «Николаю Палкину»] 26.xml\n",
      "[Варианты к «Первому винокуру»] 26.xml\n",
      "[Варианты к «Поликушке»] 7.xml\n",
      "[Варианты к «Смерти Ивана Ильича»] 26.xml\n",
      "[Варианты к драматической обработке легенды об Аггее] 26.xml\n",
      "[Варианты к первой части повести Казаки] 6.xml\n",
      "[Варианты к трактату «О жизни»] 26.xml\n",
      "[Варианты начал «Тихона и Маланьи»] 7.xml\n",
      "[Варианты статьи «О народном образовании»] 17.xml\n",
      "[Воззвание] 27.xml\n",
      "[Воскресение. 2-я редакция] 33.xml\n",
      "[Воскресение. 3-я редакция] 33.xml\n",
      "[Воскресение. 4-я редакция] 33.xml\n",
      "[Воскресение. 5-я редакция] 33.xml\n",
      "[Воскресение. 6-я редакция] 33.xml\n",
      "[Воспоминания о суде над солдатом] 37.xml\n",
      "[Время пришло] 37.xml\n",
      "[Два путника] 17.xml\n",
      "[Заметка по поводу военного журнала] 4.xml\n",
      "[Записи и вопросы, относящиеся к Воскресению] 33.xml\n",
      "[Записка о дворянстве] 5.xml\n",
      "[Иеромонах Илиодор] 37.xml\n",
      "[Иеромонах Илиодор]. Варианты 37.xml\n",
      "[Из ученической тетради 1835 г.] 1.xml\n",
      "[К итальянцам] 31.xml\n",
      "[К тексту к картине Ге «Тайная вечеря»] 25.xml\n",
      "[Князь Федор Щетинин] 17.xml\n",
      "[Миташа] 26.xml\n",
      "[Набег. Варианты текста Современника] 3.xml\n",
      "[Начало второй незаконченной редакции «Воскресения»] 33.xml\n",
      "[Начало статьи о школах Крапивенского земства] 17.xml\n",
      "[Начало фантастического рассказа] 5.xml\n",
      "[Николай Палкин] 26.xml\n",
      "[О благотворительности] 25.xml\n",
      "[О верах] 26.xml\n",
      "[О значении христианской религии] 17.xml\n",
      "[О суде] 29.xml\n",
      "[О Т. М. Бондареве. Для словаря С. А. Венгерова] 31.xml\n",
      "[О царствовании императора Александра ІІ-го] 17.xml\n",
      "[Окончание «Малороссийской легенды» «Сорок лет», изданной Костомаровым в 1881 г.] 26.xml\n",
      "[Ответ критикам, писавшим об «Азбуке»] 21.xml\n",
      "[Отрывок записки о народных школах Крапивенского уезда] 17.xml\n",
      "[Отрывок об уголовном праве] 1.xml\n",
      "[Отрывок разговора двух дам] 1.xml\n",
      "[Первая законченная редакция «Воскресения»] 33.xml\n",
      "[Первая незаконченная редакция «Воскресения»] 33.xml\n",
      "[Первая редакция рассказа «Два брата и золото»] 25.xml\n",
      "[Первая редакция рассказа «Кающийся грешник»] 25.xml\n",
      "[Первая редакция текста к картине «Страдания господа нашего Иисуса Христа»] 25.xml\n",
      "[Первоначальный набросок начала «Записки об отрицательных сторонах русского солдата и офицера»] 4.xml\n",
      "[Первый черновик рассказа «Где любовь, там и бог»] 25.xml\n",
      "[Письмо в иностранные газеты по поводу гонений на кавказских духоборов] 39.xml\n",
      "[План «Юности»] 2.xml\n",
      "[План глав II—XXII статьи «Сиддарта, прозванный Буддой, т. е. святым»] 25.xml\n",
      "[Плановые заметки к автобиографии. Моя жизнь] 23.xml\n",
      "[Планы «Святочной ночи»] 3.xml\n",
      "[По поводу дела Скублинской] 27.xml\n",
      "[По поводу заключения В. А. Молочникова] 37.xml\n",
      "[Поздравительные стихи] 1.xml\n",
      "[Предисловие к истории Матвея] 8.xml\n",
      "[Прения о вере в Кремле] 17.xml\n",
      "[Произведения, написанные для «Почтового ящика»] 25.xml\n",
      "[Разговор о науке] 17.xml\n",
      "[Речь в Обществе любителей российской словесности] 5.xml\n",
      "[Речь о народных изданиях] 25.xml\n",
      "[Роженица] 37.xml\n",
      "[Светлое христово воскресенье] 5.xml\n",
      "[Семейное счастье. Варианты редакций] 5.xml\n",
      "[Студенческое движение 1899 года] 31.xml\n",
      "[Три смерти. Варианты редакций] 5.xml\n",
      "[Труждающиеся и обремененные] 17.xml\n",
      "[Философические замечания на речи Ж. Ж. Руссо] 1.xml\n",
      "[Черновое начало неозаглавленной пьесы] 37.xml\n",
      "[Четыре эпохи развития] 1.xml\n",
      "[Юность. Варианты текста Современника. 1854 г. № 10] 2.xml\n",
      "«Когда же, когда наконец перестану...» 1.xml\n",
      "«Роман русского помещика». 4.xml\n",
      "«Роман русского помещика». [Первая редакция] 4.xml\n",
      "Азбука. Книга I 22.xml\n",
      "Азбука. Книга II 22.xml\n",
      "Азбука. Книга III 22.xml\n",
      "Азбука. Книга IV 22.xml\n",
      "Альберт 5.xml\n",
      "Анна Каренина. 18.xml\n",
      "Анна Каренина. 19.xml\n",
      "Ассирийский царь Асархадон 34.xml\n",
      "Беседа досужих людей 26.xml\n",
      "Беседа с детьми по нравственным вопросам 37.xml\n",
      "Благо любви 37.xml\n",
      "Богу или маммоне 39.xml\n",
      "В чем моя вера. Планы и варианты.  23.xml\n",
      "Вариант конца повести Дьявол 27.xml\n",
      "Вариант предисловия к статье В. Г. Черткова «Злая забава» 27.xml\n",
      "Варианты «Анны Карениной» 20.xml\n",
      "Варианты из корректур Войны и мира 14.xml\n",
      "Варианты из корректур к четвертому тому, чч. 1—6 15.xml\n",
      "Варианты из корректур к эпилогу Войны и мира, чч. 1 и 2 15.xml\n",
      "Варианты из наборных рукописей Войны и мира 14.xml\n",
      "Варианты из наборных рукописей к четвертому тому, чч. 1—5 15.xml\n",
      "Варианты из наборных рукописей к эпилогу Войны и мира, чч. 1 и 2 15.xml\n",
      "Варианты из черновых автографов и копий «Войны и мира» 14.xml\n",
      "Варианты из черновых автографов и копий к четвертому тому, чч. 1—4 15.xml\n",
      "Варианты из черновых автографов и копий к эпилогу Войны и мира, чч. 1 и 2 15.xml\n",
      "Варианты издания последних глав книги «О жизни» в петербургской газете «Неделя» за 1889 год, №№ 1, 2, 3, 4, 6. I 26.xml\n",
      "Варианты издания последних глав книги «О жизни» в петербургской газете «Неделя» за 1889 год, №№ 1, 2, 3, 4, 6. II 26.xml\n",
      "Варианты издания последних глав книги «О жизни» в петербургской газете «Неделя» за 1889 год, №№ 1, 2, 3, 4, 6. III 26.xml\n",
      "Варианты к «Запискам сумашедшего» 26.xml\n",
      "Варианты к «Крейцеровой сонате» 27.xml\n",
      "Варианты к «Плодам просвещения» 27.xml\n",
      "Варианты к «Холстомеру» 26.xml\n",
      "Варианты к Живой труп 34.xml\n",
      "Варианты к Неужели это так надо 34.xml\n",
      "Варианты к повести «Дьявол» 27.xml\n",
      "Варианты к После бала 34.xml\n",
      "Варианты к Предисловие к роману В. фон-Поленца «Крестьянин» 34.xml\n",
      "Варианты к статье «Для чего люди одурманиваются» 27.xml\n",
      "Варианты к статье О Шекспире и о драме 35.xml\n",
      "Варианты к тому второму «Войны и мира» 13.xml\n",
      "Варианты к тому первому «Войны и мира» 13.xml\n",
      "Варианты к Хаджи-Мурату 35.xml\n",
      "Варианты Рабство нашего времени 34.xml\n",
      "Варианты „Послесловия к «Крейцеровой сонате»“ 27.xml\n",
      "Верьте себе 37.xml\n",
      "Власть тьмы [план драмы] 26.xml\n",
      "Власть тьмы авторские исправления сделанные в печатном тексте власти тьмы 26.xml\n",
      "Власть тьмы варианты 26.xml\n",
      "Власть тьмы.  26.xml\n",
      "Воззвание 34.xml\n",
      "Война и мир. 10.xml\n",
      "Война и мир. 11.xml\n",
      "Война и мир. 12.xml\n",
      "Война и мир. 9.xml\n",
      "Волк 37.xml\n",
      "Воспоминания 34.xml\n",
      "Вражье лепко, а божье крепко 25.xml\n",
      "Временная метода для изучения музыки 1.xml\n",
      "Вставка в брошюру Е. А. Покровского «Об уходе за малыми детьми» 27.xml\n",
      "Вставки и замечания к рукописи Биографии Л. Н. Толстого, составленной П. И. Бирюковым 34.xml\n",
      "Вступления, предисловия и варианты начал «Войны и мира» 13.xml\n",
      "Вторая редакция «Записок об отрицательных сторонах русского солдата и офицера» 4.xml\n",
      "Вторая редакция „Послесловия к «Крейцеровой сонате»“ 27.xml\n",
      "Вторая русская книга для чтения 21.xml\n",
      "Второй план комедии «Плоды просвещения». 27.xml\n",
      "Выдержка из частного письма по поводу возражений на статью «Женщинам» 25.xml\n",
      "Где выход 34.xml\n",
      "Где любовь, там и бог 25.xml\n",
      "Голод или не голод 29.xml\n",
      "Грамматика для сельской школы 21.xml\n",
      "Греческий учитель Сократ 25.xml\n",
      "Греческий учитель Сократ. Варианты 25.xml\n",
      "Два брата и золото 25.xml\n",
      "Два гусара. Повесть. 3.xml\n",
      "Два старика 25.xml\n",
      "Две войны 31.xml\n",
      "Две войны. Планы и варианты. 31.xml\n",
      "Две различные версии истории улья с лубочной крышкой 34.xml\n",
      "Декабристы. 17.xml\n",
      "Декабристы. Варианты 17.xml\n",
      "Декабристы. Варианты первой главы. I 17.xml\n",
      "Декабристы. Варианты первой главы. II 17.xml\n",
      "Декабристы. Планы 17.xml\n",
      "Детская мудрость 37.xml\n",
      "Детская мудрость. Варианты. 37.xml\n",
      "Детство 1.xml\n",
      "Для чего люди одурманиваются 27.xml\n",
      "Для чего пишут люди 1.xml\n",
      "Дневник помещика 5.xml\n",
      "Добавления к Войне и миру 15.xml\n",
      "Докладная записка кн. М. Д. Горчакову 4.xml\n",
      "Докладная записка товарищу Министра Внутренних Дел А. И. Левшину 5.xml\n",
      "Донесение о последней бомбардировке и взятии Севастополя союзными войсками 4.xml\n",
      "Дорого стоит 27.xml\n",
      "Дьявол. 27.xml\n",
      "Единственное средство 34.xml\n",
      "Живой труп 34.xml\n",
      "Жил в селе человек праведный 26.xml\n",
      "Житие и страдание мученика Юстина философа 17.xml\n",
      "Заключение к последнему отчету о помощи голодающим 29.xml\n",
      "Заключение к последнему отчету о помощи голодающим. Вариант 29.xml\n",
      "Закон насилия и закон любви 37.xml\n",
      "Заметка о фермерстве 5.xml\n",
      "Заметки к вопросу о порядке и условиях освобождения 5.xml\n",
      "Записи П.И. Бирюкова со слов Толстого 34.xml\n",
      "Записи, пометы и конспекты к Хаджи-Мурату 35.xml\n",
      "Записки маркера. Рассказ 3.xml\n",
      "Записки мужа 5.xml\n",
      "Записки сумашедшего 26.xml\n",
      "Зерно с куриное яйцо 25.xml\n",
      "И свет во тьме светит. 31.xml\n",
      "И свет во тьме светит. Планы и варианты 31.xml\n",
      "Из записок князя Д. Нехлюдова (Люцерн) 5.xml\n",
      "Из кавказских воспоминаний. Разжалованный 3.xml\n",
      "Ильяс 25.xml\n",
      "Искушение Господа нашего Иисуса Христа 25.xml\n",
      "Исповедь. 1833-1834. Что я 23.xml\n",
      "Исповедь. 23.xml\n",
      "Исповедь. Планы и варианты.  23.xml\n",
      "Исследование догматического богословия. 23.xml\n",
      "История вчерашнего дня 1.xml\n",
      "К духовенству 34.xml\n",
      "К западне 1.xml\n",
      "К картине Ге (Тайная вечеря) 25.xml\n",
      "К молодым людям 26.xml\n",
      "К молодым людям, живущим нерабочей жизнью 35.xml\n",
      "К политическим деятелям. 35.xml\n",
      "К публике 8.xml\n",
      "К рабочему народу. 35.xml\n",
      "Как умирают русские солдаты (Тревога) 5.xml\n",
      "Как чертенок краюшку выкупал 25.xml\n",
      "Как чертенок краюшку выкупал. Варианты 25.xml\n",
      "Как читать евангелие и в чем его сущность 39.xml\n",
      "Карма 31.xml\n",
      "Кающийся грешник 25.xml\n",
      "Китайская мудрость 25.xml\n",
      "Конспект Воспоминаний 34.xml\n",
      "Корень зла 34.xml\n",
      "Краткое изложение Евангелия. Предисловие 24.xml\n",
      "Крейцерова соната. 27.xml\n",
      "Крестник 25.xml\n",
      "Кто прав 29.xml\n",
      "Кто прав Варианты. 29.xml\n",
      "Кто убийцы Павел Кудряш 37.xml\n",
      "Кто убийцы Павел Кудряш. Планы и варианты. 37.xml\n",
      "Лето в деревне 5.xml\n",
      "Любите друг друга 37.xml\n",
      "Материалы к роману времен Петра I. Бумаги Петра 17.xml\n",
      "Материалы к роману времен Петра I. Собрание отдельных листков 17.xml\n",
      "Материалы к роману Декабристы. Записные книжки 17.xml\n",
      "Материалы к роману Декабристы. Отдельные листы 17.xml\n",
      "Материалы к роману Декабристы. Пометы 17.xml\n",
      "Мать 29.xml\n",
      "Мая 18. Страдания святых Петра, Дионисия, Андрея, Павла и Христины 25.xml\n",
      "Метель. Рассказ. 3.xml\n",
      "Много ли человеку земли нужно 25.xml\n",
      "Много ли человеку земли нужно. Варианты 25.xml\n",
      "Московские прогулки 25.xml\n",
      "Моя жизнь. 1833—1834 23.xml\n",
      "Моя жизнь. С 1828 по 1833 23.xml\n",
      "Мудрая девица 26.xml\n",
      "Набег. Рассказ волонтера. 3.xml\n",
      "Нагорная проповедь 25.xml\n",
      "Наука и искусство 30.xml\n",
      "Наука и искусство. Варианты. 30.xml\n",
      "Наше жизнепонимание 37.xml\n",
      "Не могу молчать 37.xml\n",
      "Не могу молчать. Варианты 37.xml\n",
      "Не убий 34.xml\n",
      "Не убий никого 37.xml\n",
      "Неделание 29.xml\n",
      "Несколько слов по поводу книги Война и мир 16.xml\n",
      "Неужели это так надо 34.xml\n",
      "Новая азбука 21.xml\n",
      "Новый суд в его приложении 17.xml\n",
      "О будущей жизни вне времени и пространства 17.xml\n",
      "О веротерпимости 34.xml\n",
      "О Гоголе 26.xml\n",
      "О голоде 29.xml\n",
      "О голоде. Варианты 29.xml\n",
      "О душе и жизни ее вне известной и понятной нам жизни 17.xml\n",
      "О жизни. 26.xml\n",
      "О значении описания школ и народных книг 8.xml\n",
      "О молитве 1.xml\n",
      "О народном образовании 17.xml\n",
      "О народном образовании 8.xml\n",
      "О науке и искусстве 30.xml\n",
      "О науке и искусстве. Варианты. 30.xml\n",
      "О переписи в Москве 25.xml\n",
      "О прекращении издания педагогического журнала «Ясная поляна» 8.xml\n",
      "О присоединении Боснии и Герцеговины к Австрии 37.xml\n",
      "О русском военно-уголовном законодательстве 5.xml\n",
      "О средствах помощи населению, пострадавшему от неурожая 29.xml\n",
      "О средствах помощи населению, пострадавшему от неурожая. Варианты 29.xml\n",
      "О том, что есть и что не есть искусство, и о том, когда искусство есть дело важное и когда оно есть дело пустое 30.xml\n",
      "О том, что есть и что не есть искусство, и о том, когда искусство есть дело важное и когда оно есть дело пустое. Варианты. 30.xml\n",
      "О том, что называют искусством. Варианты. 30.xml\n",
      "О цели философии 1.xml\n",
      "О Шекспире и о драме. 35.xml\n",
      "Об издании нового журнала 8.xml\n",
      "Об искусстве (В мире так называемых образованных людей...) 30.xml\n",
      "Об искусстве (В мире так называемых образованных людей...). Варианты 30.xml\n",
      "Об искусстве (Произведение искусства хорошо или дурно от того...) 30.xml\n",
      "Об искусстве (Произведение искусства хорошо или дурно от того...). Варианты 30.xml\n",
      "Об общественной деятельности на поприще народного образования. Журнал заседания комитета грамотности 8.xml\n",
      "Об отношениях между полами 27.xml\n",
      "Обращение к китайскому народу 34.xml\n",
      "Оправданная 26.xml\n",
      "Определение религии-веры 17.xml\n",
      "Основные начала музыки и правила к изучению оной 1.xml\n",
      "Ответ на определение Синода от 20–22 февраля и на полученные мною по этому случаю письма 34.xml\n",
      "Отец Сергий. 31.xml\n",
      "Отец Сергий. Планы и варианты. 31.xml\n",
      "Отношение к министру внутренних дел С. С. Ланскому по поводу проекта освобождения крестьян 5.xml\n",
      "Отрывок дневника 1857 года [Путевые записки по Швейцарии] 5.xml\n",
      "Отрывок из дневника штабс-капитана А. пехотного Л. Л. полка 4.xml\n",
      "Отчет об употреблении пожертвованных денег с 1 января 1893 г. 29.xml\n",
      "Отчет об употреблении пожертвованных денег с 12 апреля по 20 июля 1892 г. 29.xml\n",
      "Отчет об употреблении пожертвованных денег с 12 апреля по 20 июля 1892 г. Варианты. 29.xml\n",
      "Отчет об употреблении пожертвованных денег с 20-го июля 1892 г. по 1-е января 1893 г. Варианты 29.xml\n",
      "Отчет с 3 декабря 1891 г. по 12 апреля 1892 г. 29.xml\n",
      "Отчет с 3 декабря 1891 г. по 12 апреля 1892 г. Варианты. 29.xml\n",
      "Отъезжее поле 5.xml\n",
      "Офицерская памятка 34.xml\n",
      "Памяти И. И. Раевского 29.xml\n",
      "Первая редакция «Записок об отрицательных сторонах русского солдата и офицера» 4.xml\n",
      "Первая редакция «Крейцеровой сонаты» 27.xml\n",
      "Первая редакция «Плодов просвещения» («Исхитрилась!»).  27.xml\n",
      "Первая редакция предисловия к книге А. И. Ершова «Севастопольские воспоминания артиллерийского офицера» (1889) 27.xml\n",
      "Первая редакция статьи «Праздник просвещения 12 января» 26.xml\n",
      "Первая редакция „Послесловия к «Крейцеровой сонате»“ 27.xml\n",
      "Первая русская книга для чтения. 21.xml\n",
      "Первая ступень 29.xml\n",
      "Первый винокур, или как чертенок краюшку заслужил. 26.xml\n",
      "Первый план комедии «Плоды просвещения». 27.xml\n",
      "Песни на деревне 37.xml\n",
      "Песни на деревне. Варианты. 37.xml\n",
      "ПЕСНЯ ПРО СРАЖЕНИЕ НА Р. ЧЕРНОЙ 4 АВГУСТА 1855 Г. 4.xml\n",
      "Петр Хлебник 29.xml\n",
      "Петр Хлебник. Варианты. 29.xml\n",
      "Печатные варианты первого издания статьи «Пора опомниться» к основному тексту 26.xml\n",
      "Письмо к издателям [О методах обучения грамоте] 17.xml\n",
      "Письмо к издателям [О самарском голоде] 17.xml\n",
      "Письмо к Н. А. Александрову 30.xml\n",
      "Планы и варианты к Живой труп 34.xml\n",
      "Планы и заметки к «Анне Карениной» 20.xml\n",
      "Планы и заметки к «Войне и миру» 13.xml\n",
      "Плоды просвещения. 27.xml\n",
      "Поликушка. 7.xml\n",
      "Пора опомниться! 26.xml\n",
      "После бала 34.xml\n",
      "Послесловие к «Крейцеровой сонате» 27.xml\n",
      "Послесловие к воззванию «Помогите!» 39.xml\n",
      "Послесловие к книге Е. И. Попова «Жизнь и смерть Евдокима Никитича Дрожжина. 1866—1894» 39.xml\n",
      "Послесловие к статье П. И. Бирюкова «Гонение на христиан в России в 1895 г.» 39.xml\n",
      "Почему христианские народы вообще и в особенности русский находятся теперь в бедственном положении 37.xml\n",
      "Правила для педагогических курсов 17.xml\n",
      "Праздник просвещения 12-го января 26.xml\n",
      "Предисловие к The Anatomy of Misery Джона Кенворти 34.xml\n",
      "Предисловие к «Крестьянским рассказам» С. Т. Семенова 29.xml\n",
      "Предисловие к «Крестьянским рассказам» С. Т. Семенова. Варианты 29.xml\n",
      "Предисловие к альбому «Русские мужики» Н. Орлова 37.xml\n",
      "Предисловие к английскому изданию трактата «Что такое искусство» 30.xml\n",
      "Предисловие к дневнику Амиеля 29.xml\n",
      "Предисловие к дневнику Амиеля. Варианты 29.xml\n",
      "Предисловие к книге А. И. Ершова «Севастопольские воспоминания артиллерийского офицера» 27.xml\n",
      "Предисловие к книге д-ра медицины Алисы Стокгэм «Токология, или наука о рождении детей» 27.xml\n",
      "Предисловие к рассказу В. С. Морозова «За одно слово» 37.xml\n",
      "Предисловие к роману А. И. Эртеля «Гарденины» 37.xml\n",
      "Предисловие к роману В. фон-Поленца Крестьянин 34.xml\n",
      "Предисловие к сборнику «Цветник» 26.xml\n",
      "Предисловие к сборнику мыслей Джона Рёскина «Воспитание. Книга. Женщина» 31.xml\n",
      "Предисловие к Солдатской памятке и Офицерской памятке 34.xml\n",
      "Предисловие к сочинениям Гюи де Мопассана 30.xml\n",
      "Предисловие к статье В. Г. Черткова «Злая забава» 27.xml\n",
      "Предисловие к статье Эдуарда Карпентера «Современная наука» 31.xml\n",
      "Предложение крепостным мужикам и дворовым сельца Ясной Поляны Тульской губ., Крапивенского уезда 5.xml\n",
      "Приближение конца 31.xml\n",
      "Проезжий и крестьянин 37.xml\n",
      "Проект журнала «Солдатский вестник» 4.xml\n",
      "Проект по лесному хозяйству 5.xml\n",
      "Проект условия с крестьянами Ясной Поляны и Грецовки 5.xml\n",
      "Произведения, написанные для «Новой азбуки» и не включенные в нее 21.xml\n",
      "Произведения, написанные для азбуки и не включенные в нее. Cмерть Олега 21.xml\n",
      "Произведения, написанные для азбуки и не включенные в нее. [Волк и семеро маленьких козляточек] 21.xml\n",
      "Произведения, написанные для азбуки и не включенные в нее. Балакирев 21.xml\n",
      "Произведения, написанные для азбуки и не включенные в нее. Игра в волка 21.xml\n",
      "Произведения, написанные для азбуки и не включенные в нее. Как я выучился ездить верхом 21.xml\n",
      "Произведения, написанные для азбуки и не включенные в нее. Коршуны 21.xml\n",
      "Произведения, написанные для азбуки и не включенные в нее. Кошка и мышатник ястреб 21.xml\n",
      "Произведения, написанные для азбуки и не включенные в нее. Мельник 21.xml\n",
      "Произведения, написанные для азбуки и не включенные в нее. Обезьяна 21.xml\n",
      "Произведения, написанные для азбуки и не включенные в нее. Проезжие в светлый праздник 21.xml\n",
      "Произведения, написанные для азбуки и не включенные в нее. Рассказ 21.xml\n",
      "Произведения, написанные для азбуки и не включенные в нее. Солдат 21.xml\n",
      "Произведения, написанные для азбуки и не включенные в нее. Храбрый солдат 21.xml\n",
      "Психология обыденной жизни 17.xml\n",
      "Работник Емельян и пустой барабан 25.xml\n",
      "Рабство нашего времени 34.xml\n",
      "Разговор отца с сыном 37.xml\n",
      "Разговор с прохожим 37.xml\n",
      "Разрушение ада и восстановление его 34.xml\n",
      "Редакционные заметки и примечания к журналу «Ясная поляна» и к книжкам «Ясной поляны» 8.xml\n",
      "Религия и наука 37.xml\n",
      "Религия и нравственность 39.xml\n",
      "Речь в защиту рядового Василия Шибунина 37.xml\n",
      "Рубка леса. Рассказ юнкера. 3.xml\n",
      "Сантиментальное путешествие через Францию и Италию 1.xml\n",
      "Свечка 25.xml\n",
      "Севастополь в августе 1855 года. 4.xml\n",
      "Севастополь в декабре месяце 4.xml\n",
      "Семейное счастие 5.xml\n",
      "Сиддарта, прозванный Буддой, т. е. святым 25.xml\n",
      "Сиддарта, прозванный Буддой. Варианты 25.xml\n",
      "Сказка 17.xml\n",
      "Сказка о том, как другая девочка Варенька скоро выросла большая 5.xml\n",
      "Сказка об Иване Дураке. Варианты 25.xml\n",
      "Смерть Ивана Ильича. 26.xml\n",
      "Собеседники 17.xml\n",
      "Соединение и перевод четырех евангелий.  24.xml\n",
      "Солдатская памятка 34.xml\n",
      "Солдатские разговоры 4.xml\n",
      "Сон молодого царя 31.xml\n",
      "Сон молодого царя. Планы и варианты 31.xml\n",
      "Страдания Господа нашего Иисуса Христа 25.xml\n",
      "Страдания святого мученика Феодора, в Пергии Памфилийской 25.xml\n",
      "Страшный вопрос 29.xml\n",
      "Страшный вопрос. Варианты. 29.xml\n",
      "Стыдно 31.xml\n",
      "Стыдно. Планы и варианты. 31.xml\n",
      "Так что же нам делать Варианты 25.xml\n",
      "Течение воды 26.xml\n",
      "Третья (незаконченная) редакция «Крейцеровой сонаты» 27.xml\n",
      "Третья (незаконченная) редакция „Послесловия к «Крейцеровой сонате»“ 27.xml\n",
      "Третья русская книга для чтения 21.xml\n",
      "Три вопроса 34.xml\n",
      "Три притчи. 31.xml\n",
      "Три притчи. Планы и варианты 31.xml\n",
      "Три смерти 5.xml\n",
      "Три старца 25.xml\n",
      "Три сына 26.xml\n",
      "Труд, смерть и болезнь 34.xml\n",
      "Трудолюбие, или торжество земледельца 25.xml\n",
      "Трудолюбие, или торжество земледельца. Вариант 25.xml\n",
      "Упустишь огонь — не потушишь 25.xml\n",
      "Учение 12-ти апостолов 25.xml\n",
      "Учение двенадцати апостолов 25.xml\n",
      "Учение двенадцати апостолов. Варианты 25.xml\n",
      "Учение Христа, изложенное для детей 37.xml\n",
      "Франсуаза. 27.xml\n",
      "Хаджи–Мурат. 35.xml\n",
      "Характеры и лица 4.xml\n",
      "Ходите в свете, пока есть свет. 26.xml\n",
      "Хозяин и работник 29.xml\n",
      "Хозяин и работник. Варианты рукописных редакций. 29.xml\n",
      "Хозяин и работник. Черновые редакции. 29.xml\n",
      "Холстомер. 26.xml\n",
      "Христианский катехизис 17.xml\n",
      "Христианское учение 39.xml\n",
      "Христианство и патриотизм 39.xml\n",
      "Царство божие внутри вас, или христианство не как мистическое учение, а как новое жизнепонимание. Варианты 28.xml\n",
      "Царю и его помощникам 34.xml\n",
      "Церковь и государство 23.xml\n",
      "Частное письмо родителям, докторам и начальникам школ. Элизы Бёрнз 27.xml\n",
      "Чем люди живы 25.xml\n",
      "Чем люди живы Варианты 25.xml\n",
      "Четвертая русская книга для чтения 21.xml\n",
      "Это ты 34.xml\n"
     ]
    }
   ],
   "source": [
    "for root, dirs, files in os.walk (path):\n",
    "        for fl in files :\n",
    "            print (fl)"
   ]
  },
  {
   "cell_type": "code",
   "execution_count": null,
   "metadata": {
    "collapsed": false
   },
   "outputs": [],
   "source": []
  },
  {
   "cell_type": "markdown",
   "metadata": {},
   "source": [
    "### Письма"
   ]
  },
  {
   "cell_type": "code",
   "execution_count": null,
   "metadata": {
    "collapsed": true
   },
   "outputs": [],
   "source": []
  },
  {
   "cell_type": "markdown",
   "metadata": {},
   "source": [
    "### Дневники"
   ]
  },
  {
   "cell_type": "code",
   "execution_count": null,
   "metadata": {
    "collapsed": true
   },
   "outputs": [],
   "source": []
  },
  {
   "cell_type": "markdown",
   "metadata": {},
   "source": [
    "## Обработка текста"
   ]
  },
  {
   "cell_type": "markdown",
   "metadata": {},
   "source": [
    "### Теги"
   ]
  },
  {
   "cell_type": "code",
   "execution_count": 1,
   "metadata": {
    "collapsed": true
   },
   "outputs": [],
   "source": [
    "import nltk"
   ]
  },
  {
   "cell_type": "code",
   "execution_count": 19,
   "metadata": {
    "collapsed": false
   },
   "outputs": [],
   "source": [
    "a = 'Весной 1820 года Пушкина вызвали к военному генерал-губернатору Петербурга графу М. А. Милорадовичу для объяснения по поводу содержания его стихотворений (в том числе эпиграмм на Аракчеева, архимандрита Фотия и самого Александра I), несовместимых со статусом государственного чиновника. Шла речь о его высылке в Сибирь или заточении в Соловецкий монастырь. Лишь благодаря хлопотам друзей, прежде всего Карамзина, удалось добиться смягчения наказания. Его перевели из столицы на юг в кишинёвскую канцелярию И. Н. Инзова[34]. По пути к новому месту службы Александр Сергеевич заболевает воспалением лёгких, искупавшись в Днепре. Для поправления здоровья Раевские вывозят в конце мая 1820 года больного поэта с собой на Кавказ и в Крым[35]. По дороге семья Раевских и А. С. Пушкин останавливаются в г. Таганроге, в бывшем доме градоначальника П. А. Папкова (ул. Греческая, 40).'"
   ]
  },
  {
   "cell_type": "code",
   "execution_count": 21,
   "metadata": {
    "collapsed": true
   },
   "outputs": [],
   "source": [
    "a = 'Он находится на ул. Пушкина дом 17'"
   ]
  },
  {
   "cell_type": "code",
   "execution_count": 150,
   "metadata": {
    "collapsed": false
   },
   "outputs": [
    {
     "data": {
      "text/plain": [
       "['Тогда Rambler Media (контролируется \"Проф-медиа\" Владимира Потанина) объявил о продаже Google 100% системы контекстной рекламы ЗАО \"Бегун\" за $140 млн (см.',\n",
       " 'Ъ от 19 июля 2008 года).',\n",
       " 'Всю жизнь доказывала, что она – лучшая, ноги стирая в кровь.',\n",
       " 'За 22 года турне Павлова проехала по миру более полумиллиона километров, дала около 9 тыс.',\n",
       " 'спектаклей.',\n",
       " 'Так, например, «умышленное причинение смерти другому человеку», конечно же, – преступление, убийство (ст.',\n",
       " '105 УК РФ), но и… подвиг на войне.']"
      ]
     },
     "execution_count": 150,
     "metadata": {},
     "output_type": "execute_result"
    }
   ],
   "source": [
    "nltk.tokenize.sent_tokenize(tobetokenized, language='czech')"
   ]
  },
  {
   "cell_type": "code",
   "execution_count": null,
   "metadata": {
    "collapsed": true
   },
   "outputs": [],
   "source": []
  },
  {
   "cell_type": "code",
   "execution_count": 140,
   "metadata": {
    "collapsed": true
   },
   "outputs": [],
   "source": [
    "language_punkt_vars = nltk.tokenize.punkt.PunktLanguageVars\n",
    "language_punkt_vars.sent_end_chars=('.','?','!','»','\"','…')"
   ]
  },
  {
   "cell_type": "code",
   "execution_count": 83,
   "metadata": {
    "collapsed": false
   },
   "outputs": [
    {
     "name": "stdout",
     "output_type": "stream",
     "text": [
      "('.', '?', '!', '»', '\"', '…')\n"
     ]
    }
   ],
   "source": [
    "print(nltk.tokenize.punkt.PunktLanguageVars.sent_end_chars)"
   ]
  },
  {
   "cell_type": "code",
   "execution_count": 147,
   "metadata": {
    "collapsed": false
   },
   "outputs": [
    {
     "name": "stdout",
     "output_type": "stream",
     "text": [
      "  Abbreviation: [1.5195] ул\n",
      "  Abbreviation: [0.5590] стр\n",
      "  Abbreviation: [1.1180] руб\n",
      "  Abbreviation: [4.1305] г\n",
      "  Abbreviation: [1.5195] ст\n",
      "  Abbreviation: [4.1305] п\n",
      "  Abbreviation: [6.0781] т.п\n",
      "  Abbreviation: [4.1305] н\n",
      "  Abbreviation: [19.7537] см\n",
      "  Abbreviation: [4.1305] м\n",
      "  Abbreviation: [5.5900] тыс\n",
      "0.00043010752688172043 0.005952380952380952 0.0 4650 336 2 2\n",
      "0.00043010752688172043 0.005952380952380952 0.0 4650 336 2 2\n",
      "0.0034408602150537634 0.005952380952380952 0.003245248029670839 4650 336 16 2\n",
      "0.01032258064516129 0.02976190476190476 0.00880853036624942 4650 336 48 10\n",
      "0.0034408602150537634 0.005952380952380952 0.003245248029670839 4650 336 16 2\n",
      "0.0012903225806451613 0.005952380952380952 0.0009272137227630969 4650 336 6 2\n",
      "0.003870967741935484 0.005952380952380952 0.0037088548910523874 4650 336 18 2\n",
      "0.0008602150537634409 0.005952380952380952 0.0004636068613815484 4650 336 4 2\n",
      "0.0017204301075268817 0.017857142857142856 0.0004636068613815484 4650 336 8 6\n",
      "0.003010752688172043 0.011904761904761904 0.0023180343069077423 4650 336 14 4\n",
      "0.00043010752688172043 0.005952380952380952 0.0 4650 336 2 2\n",
      "0.008172043010752689 0.011904761904761904 0.007881316643486324 4650 336 38 4\n",
      "0.0008602150537634409 0.005952380952380952 0.0004636068613815484 4650 336 4 2\n",
      "0.036989247311827955 0.047619047619047616 0.03616133518776078 4650 336 172 16\n",
      "0.00043010752688172043 0.005952380952380952 0.0 4650 336 2 2\n",
      "0.003010752688172043 0.017857142857142856 0.0018544274455261937 4650 336 14 6\n",
      "0.002150537634408602 0.005952380952380952 0.0018544274455261937 4650 336 10 2\n",
      "0.0017204301075268817 0.005952380952380952 0.0013908205841446453 4650 336 8 2\n",
      "0.011612903225806452 0.005952380952380952 0.01205377839592026 4650 336 54 2\n",
      "0.0008602150537634409 0.005952380952380952 0.0004636068613815484 4650 336 4 2\n",
      "0.00043010752688172043 0.005952380952380952 0.0 4650 336 2 2\n",
      "0.0008602150537634409 0.011904761904761904 0.0 4650 336 4 4\n",
      "0.0008602150537634409 0.005952380952380952 0.0004636068613815484 4650 336 4 2\n",
      "0.0025806451612903226 0.005952380952380952 0.0023180343069077423 4650 336 12 2\n",
      "0.0008602150537634409 0.011904761904761904 0.0 4650 336 4 4\n",
      "0.0025806451612903226 0.005952380952380952 0.0023180343069077423 4650 336 12 2\n",
      "0.0025806451612903226 0.011904761904761904 0.0018544274455261937 4650 336 12 4\n",
      "0.0189247311827957 0.005952380952380952 0.019935095039406582 4650 336 88 2\n",
      "0.00043010752688172043 0.005952380952380952 0.0 4650 336 2 2\n",
      "0.0034408602150537634 0.005952380952380952 0.003245248029670839 4650 336 16 2\n",
      "0.00043010752688172043 0.005952380952380952 0.0 4650 336 2 2\n",
      "0.00043010752688172043 0.005952380952380952 0.0 4650 336 2 2\n",
      "0.00043010752688172043 0.005952380952380952 0.0 4650 336 2 2\n",
      "0.0012903225806451613 0.005952380952380952 0.0009272137227630969 4650 336 6 2\n",
      "0.0008602150537634409 0.005952380952380952 0.0004636068613815484 4650 336 4 2\n",
      "0.003870967741935484 0.017857142857142856 0.0027816411682892906 4650 336 18 6\n",
      "0.0008602150537634409 0.005952380952380952 0.0004636068613815484 4650 336 4 2\n",
      "0.002150537634408602 0.011904761904761904 0.0013908205841446453 4650 336 10 4\n",
      "0.00043010752688172043 0.005952380952380952 0.0 4650 336 2 2\n",
      "0.00043010752688172043 0.005952380952380952 0.0 4650 336 2 2\n",
      "0.00043010752688172043 0.005952380952380952 0.0 4650 336 2 2\n",
      "0.00043010752688172043 0.005952380952380952 0.0 4650 336 2 2\n",
      "0.0064516129032258064 0.011904761904761904 0.00602688919796013 4650 336 30 4\n",
      "0.00043010752688172043 0.005952380952380952 0.0 4650 336 2 2\n",
      "0.0008602150537634409 0.005952380952380952 0.0004636068613815484 4650 336 4 2\n",
      "0.00043010752688172043 0.005952380952380952 0.0 4650 336 2 2\n",
      "0.00043010752688172043 0.005952380952380952 0.0 4650 336 2 2\n",
      "0.00043010752688172043 0.005952380952380952 0.0 4650 336 2 2\n",
      "0.00043010752688172043 0.005952380952380952 0.0 4650 336 2 2\n",
      "0.00043010752688172043 0.005952380952380952 0.0 4650 336 2 2\n",
      "0.00043010752688172043 0.005952380952380952 0.0 4650 336 2 2\n",
      "0.00043010752688172043 0.005952380952380952 0.0 4650 336 2 2\n",
      "0.00043010752688172043 0.005952380952380952 0.0 4650 336 2 2\n",
      "0.00043010752688172043 0.005952380952380952 0.0 4650 336 2 2\n",
      "0.003010752688172043 0.005952380952380952 0.0027816411682892906 4650 336 14 2\n",
      "0.00043010752688172043 0.005952380952380952 0.0 4650 336 2 2\n",
      "0.00043010752688172043 0.005952380952380952 0.0 4650 336 2 2\n",
      "0.00043010752688172043 0.005952380952380952 0.0 4650 336 2 2\n",
      "0.00021505376344086021 0.002976190476190476 0.0 4650 336 1 1\n",
      "0.00043010752688172043 0.07692307692307693 0.0 4650 26 2 2\n",
      "  Collocation: [20.9032] 'а'+'милорадовичу'\n",
      "0.00043010752688172043 0.022727272727272728 0.0 4650 88 2 2\n",
      "  Collocation: [15.9141] 'и'+'н.'\n",
      "0.00043010752688172043 0.07692307692307693 0.0 4650 26 2 2\n",
      "  Collocation: [20.9032] 'а'+'папкова'\n",
      "0.003010752688172043 0.03508771929824561 0.002204585537918871 4650 114 14 4\n",
      "  Collocation: [13.5342] '##number##'+'к'\n",
      "0.00043010752688172043 0.017543859649122806 0.0 4650 114 2 2\n",
      "  Collocation: [14.8681] '##number##'+'кстати'\n",
      "0.00043010752688172043 0.017543859649122806 0.0 4650 114 2 2\n",
      "  Collocation: [14.8681] '##number##'+'добавим'\n"
     ]
    }
   ],
   "source": [
    "with open('.\\\\data\\\\traindata.txt', 'r', encoding='utf-8') as f:\n",
    "    traindata = f.read()\n",
    "trainer = nltk.tokenize.punkt.PunktTrainer(traindata, language_punkt_vars)\n",
    "trainer.INCLUDE_ALL_COLLOCS = True \n",
    "trainer.INCLUDE_ABBREV_COLLOCS = True\n",
    "params = trainer.get_params()\n",
    "sbd = nltk.tokenize.punkt.PunktSentenceTokenizer(params)"
   ]
  },
  {
   "cell_type": "code",
   "execution_count": 149,
   "metadata": {
    "collapsed": false
   },
   "outputs": [
    {
     "name": "stdout",
     "output_type": "stream",
     "text": [
      "Тогда Rambler Media (контролируется \"Проф-медиа\" Владимира Потанина) объявил о продаже Google 100% системы контекстной рекламы ЗАО \"Бегун\" за $140 млн (см. Ъ от 19 июля 2008 года).\n",
      "\n",
      "Всю жизнь доказывала, что она – лучшая, ноги стирая в кровь.\n",
      "\n",
      "За 22 года турне Павлова проехала по миру более полумиллиона километров, дала около 9 тыс. спектаклей.\n",
      "\n",
      "Так, например, «умышленное причинение смерти другому человеку», конечно же, – преступление, убийство (ст. 105 УК РФ), но и… подвиг на войне.\n",
      "\n"
     ]
    }
   ],
   "source": [
    "with open('.\\\\data\\\\testdata.txt', 'r', encoding='utf-8') as f:\n",
    "    tobetokenized = f.read()\n",
    "for sentence in sbd.sentences_from_text(tobetokenized, realign_boundaries=True):\n",
    "    print (sentence + '\\n')"
   ]
  },
  {
   "cell_type": "code",
   "execution_count": 151,
   "metadata": {
    "collapsed": false
   },
   "outputs": [
    {
     "data": {
      "text/plain": [
       "['Тогда Rambler Media (контролируется \"Проф-медиа\" Владимира Потанина) объявил о продаже Google 100% системы контекстной рекламы ЗАО \"Бегун\" за $140 млн (см.',\n",
       " 'Ъ от 19 июля 2008 года).',\n",
       " 'Всю жизнь доказывала, что она – лучшая, ноги стирая в кровь.',\n",
       " 'За 22 года турне Павлова проехала по миру более полумиллиона километров, дала около 9 тыс.',\n",
       " 'спектаклей.',\n",
       " 'Так, например, «умышленное причинение смерти другому человеку», конечно же, – преступление, убийство (ст.',\n",
       " '105 УК РФ), но и… подвиг на войне.']"
      ]
     },
     "execution_count": 151,
     "metadata": {},
     "output_type": "execute_result"
    }
   ],
   "source": [
    "nltk.tokenize.sent_tokenize(tobetokenized, language='czech')"
   ]
  }
 ],
 "metadata": {
  "kernelspec": {
   "display_name": "Python 3",
   "language": "python",
   "name": "python3"
  },
  "language_info": {
   "codemirror_mode": {
    "name": "ipython",
    "version": 3
   },
   "file_extension": ".py",
   "mimetype": "text/x-python",
   "name": "python",
   "nbconvert_exporter": "python",
   "pygments_lexer": "ipython3",
   "version": "3.6.5"
  }
 },
 "nbformat": 4,
 "nbformat_minor": 2
}
